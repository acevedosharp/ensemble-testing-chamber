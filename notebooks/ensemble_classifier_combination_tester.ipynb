{
  "nbformat": 4,
  "nbformat_minor": 0,
  "metadata": {
    "colab": {
      "name": "ensemble-classifier-combination-tester.ipynb",
      "provenance": [],
      "toc_visible": true,
      "authorship_tag": "ABX9TyMbIazOoK35qgt8DoEPf93V",
      "include_colab_link": true
    },
    "kernelspec": {
      "name": "python3",
      "display_name": "Python 3"
    }
  },
  "cells": [
    {
      "cell_type": "markdown",
      "metadata": {
        "id": "view-in-github",
        "colab_type": "text"
      },
      "source": [
        "<a href=\"https://colab.research.google.com/github/acevedosharp/ensemble-testing-chamber/blob/master/notebooks/ensemble_classifier_combination_tester.ipynb\" target=\"_parent\"><img src=\"https://colab.research.google.com/assets/colab-badge.svg\" alt=\"Open In Colab\"/></a>"
      ]
    },
    {
      "cell_type": "markdown",
      "metadata": {
        "id": "S5POcuMGvFbr"
      },
      "source": [
        "# Measuring the effectiveness of ensembles"
      ]
    },
    {
      "cell_type": "markdown",
      "metadata": {
        "id": "3VVkWfGqHHs6"
      },
      "source": [
        "- assemble all possible combination of ensembles $k \\in \\{1,2,3,4,5\\}$\r\n",
        "- 10-fold cross validation\r\n",
        "- the single best learner (according to some cross-validation) for each dataset\r\n",
        "- for each $k \\in \\{2,3,4,5\\}$, how many ensembles do improve over the single best learner by at least $0.005$ (absolute and relative counts of improvement)\r\n",
        "- for each base learner understand in how many improving ensembles it is contained (absolute and relative numbers)"
      ]
    },
    {
      "cell_type": "markdown",
      "metadata": {
        "id": "LCu4pVZQvAQq"
      },
      "source": [
        "## Experimental setup"
      ]
    },
    {
      "cell_type": "code",
      "metadata": {
        "id": "eOTCnQy8CnV0"
      },
      "source": [
        "# ignore sklearn warnings\r\n",
        "def warn(*args, **kwargs):\r\n",
        "    pass\r\n",
        "import warnings\r\n",
        "warnings.warn = warn\r\n",
        "\r\n",
        "import itertools\r\n",
        "import random\r\n",
        "import openml\r\n",
        "import numpy as np\r\n",
        "import pandas as pd\r\n",
        "import sklearn\r\n",
        "from datetime import datetime\r\n",
        "import matplotlib.pyplot as plt\r\n",
        "from functools import reduce\r\n",
        "\r\n",
        "from sklearn.model_selection import KFold\r\n",
        "from sklearn.model_selection import train_test_split\r\n",
        "from sklearn.preprocessing import StandardScaler\r\n",
        "from sklearn.preprocessing import LabelEncoder\r\n",
        "from sklearn.impute import KNNImputer\r\n",
        "\r\n",
        "# classifiers\r\n",
        "from sklearn.svm import LinearSVC\r\n",
        "from sklearn.tree import DecisionTreeClassifier\r\n",
        "from sklearn.tree import ExtraTreeClassifier\r\n",
        "from sklearn.linear_model import LogisticRegression\r\n",
        "from sklearn.linear_model import PassiveAggressiveClassifier\r\n",
        "from sklearn.linear_model import Perceptron\r\n",
        "from sklearn.linear_model import RidgeClassifier\r\n",
        "from sklearn.linear_model import SGDClassifier\r\n",
        "from sklearn.neural_network import MLPClassifier\r\n",
        "from sklearn.discriminant_analysis import LinearDiscriminantAnalysis\r\n",
        "from sklearn.discriminant_analysis import QuadraticDiscriminantAnalysis\r\n",
        "from sklearn.naive_bayes import BernoulliNB\r\n",
        "from sklearn.naive_bayes import MultinomialNB\r\n",
        "from sklearn.neighbors import KNeighborsClassifier\r\n",
        "from sklearn.ensemble import ExtraTreesClassifier\r\n",
        "from sklearn.ensemble import RandomForestClassifier\r\n",
        "from sklearn.ensemble import GradientBoostingClassifier\r\n",
        "\r\n",
        "from datetime import datetime"
      ],
      "execution_count": 1,
      "outputs": []
    },
    {
      "cell_type": "code",
      "metadata": {
        "id": "fEHheHDUezaf"
      },
      "source": [
        "allDatasets = [\r\n",
        "  (1485 , 'madelon'),\r\n",
        "  # (42734, 'okcupid-stem'), requires too much preprocessing\r\n",
        "  (1169 , 'airlines'),\r\n",
        "  # (42733, 'Click_prediction_small'), after creating dummy columns it becomes way too large to fit on machines with less than 32gb of memory.\r\n",
        "  (41150, 'MiniBooNE'),\r\n",
        "  (54   , 'vehicle'), \r\n",
        "  (40981, 'Australian'),\r\n",
        "  (40975, 'car'),\r\n",
        "  (40670, 'dna'),\r\n",
        "  (31   , 'credit-g'),\r\n",
        "  (41169, 'helena'),\r\n",
        "  (41168, 'jannis'),\r\n",
        "  (41167, 'di  nis'),\r\n",
        "  (41166, 'volkert'),\r\n",
        "  (41165, 'robert'),\r\n",
        "  (41164, 'fabert'),\r\n",
        "  (41163, 'dilbert'),\r\n",
        "  (41162, 'kick'),\r\n",
        "  (41161, 'riccardo'),\r\n",
        "  (41159, 'guillermo'),\r\n",
        "]\r\n",
        "\r\n",
        "indicesToRun = [8] # list(range(len(allDatasets)))\r\n",
        "rawDatasets = { allDatasets[i][1]: openml.datasets.get_dataset(allDatasets[i][0]) for i in indicesToRun } # download the datasets that will actually be used for the experiment\r\n",
        "\r\n",
        "datasets = { }\r\n",
        "\r\n",
        "for datasetName, rawDataset in rawDatasets.items():\r\n",
        "  X, Y, categorical_indicator, attribute_names = rawDatasets[datasetName].get_data(\r\n",
        "    dataset_format=\"dataframe\", target=rawDatasets[datasetName].default_target_attribute\r\n",
        "  )\r\n",
        "  if X.shape[0] > 25000: \r\n",
        "    arr = np.arange(0, X.shape[0])\r\n",
        "    random.shuffle(arr)\r\n",
        "    X = X.iloc[arr[:25000]]\r\n",
        "    Y = Y.iloc[arr[:25000]]\r\n",
        "  \r\n",
        "  X = pd.get_dummies(X).to_numpy()\r\n",
        "  Y = Y.to_numpy()\r\n",
        "  \r\n",
        "  datasets[datasetName] = (\r\n",
        "      X,\r\n",
        "      LabelEncoder().fit_transform(Y), # make sure all clases are integers\r\n",
        "      categorical_indicator\r\n",
        "  )\r\n"
      ],
      "execution_count": 2,
      "outputs": []
    },
    {
      "cell_type": "code",
      "metadata": {
        "id": "ZAyRvsAVKPLx",
        "colab": {
          "base_uri": "https://localhost:8080/"
        },
        "outputId": "942ae387-3ca6-4fd6-cb42-cbc1596c095f"
      },
      "source": [
        "datasets.keys()"
      ],
      "execution_count": 3,
      "outputs": [
        {
          "output_type": "execute_result",
          "data": {
            "text/plain": [
              "dict_keys(['MiniBooNE'])"
            ]
          },
          "metadata": {
            "tags": []
          },
          "execution_count": 3
        }
      ]
    },
    {
      "cell_type": "code",
      "metadata": {
        "id": "p7b6pFVrlyPK",
        "colab": {
          "base_uri": "https://localhost:8080/"
        },
        "outputId": "451a03c4-31ea-4e4d-8e1f-9213ec11a7f0"
      },
      "source": [
        "datasets['MiniBooNE'][0].shape"
      ],
      "execution_count": 4,
      "outputs": [
        {
          "output_type": "execute_result",
          "data": {
            "text/plain": [
              "(25000, 50)"
            ]
          },
          "metadata": {
            "tags": []
          },
          "execution_count": 4
        }
      ]
    },
    {
      "cell_type": "code",
      "metadata": {
        "id": "lOeNKRHjdcR8"
      },
      "source": [
        "classifiers = {\r\n",
        "    \"Linear SVC\": LinearSVC(),\r\n",
        "    \"Decision Tree\": DecisionTreeClassifier(),\r\n",
        "    \"Extra Tree\": ExtraTreeClassifier(),\r\n",
        "    \"Logistic\": LogisticRegression(),\r\n",
        "    \"Passive Aggressive\": PassiveAggressiveClassifier(),\r\n",
        "    \"Perceptron\": Perceptron(),\r\n",
        "    \"Ridge\": RidgeClassifier(),\r\n",
        "    \"SGD\": SGDClassifier(),\r\n",
        "    \"Multi-layer Perceptron\": MLPClassifier(),\r\n",
        "    \"Linear Discriminant\": LinearDiscriminantAnalysis(),\r\n",
        "    \"Quadratic Discriminant\": QuadraticDiscriminantAnalysis(),\r\n",
        "    \"BernoulliNB\": BernoulliNB(),\r\n",
        "    # don't forget to comment it when dataset contains negative values\r\n",
        "    #\"MultinomialNB\": MultinomialNB(),\r\n",
        "    \"Nearest Neighbors\": KNeighborsClassifier(),\r\n",
        "    \"Extra Trees\": ExtraTreesClassifier(),\r\n",
        "    \"Random Forest (10 estimators)\": RandomForestClassifier(n_estimators=10),\r\n",
        "    \"Gradient Boosting\": GradientBoostingClassifier()\r\n",
        "}"
      ],
      "execution_count": 5,
      "outputs": []
    },
    {
      "cell_type": "markdown",
      "metadata": {
        "id": "d5YLMIyYkxk2"
      },
      "source": [
        "### Execute experiments"
      ]
    },
    {
      "cell_type": "code",
      "metadata": {
        "id": "I4ORrJknmQBF",
        "colab": {
          "base_uri": "https://localhost:8080/"
        },
        "outputId": "3bfefc17-2c39-4292-e4b7-bcf84a56c4a9"
      },
      "source": [
        "# 10-fold cross validation, take only 25k instances for training in dataset if larger\r\n",
        "FOLDS = 10\r\n",
        "\r\n",
        "results = []\r\n",
        "singleClassifiersRuntimeAcrossDifferentFolds = [{classifier: (datetime.now() - datetime.now()) for classifier in classifiers.keys()} for i in range(FOLDS)]\r\n",
        "\r\n",
        "kf = KFold(n_splits=FOLDS)\r\n",
        "for dataset in datasets.keys():\r\n",
        "  X, Y = datasets[dataset][0], datasets[dataset][1]\r\n",
        "  #X = StandardScaler().fit_transform(X)\r\n",
        "  fold_index = 0\r\n",
        "  for train_index, test_index in kf.split(X):\r\n",
        "    fold_start_time = datetime.now()\r\n",
        "    print(\">>> Fold\", fold_index)\r\n",
        "    X_train, X_test = X[train_index], X[test_index] # np.take\r\n",
        "    Y_train, Y_test = Y[train_index], Y[test_index] # np.take\r\n",
        "\r\n",
        "    # Train every classifier with the new data\r\n",
        "    trainStartTime = datetime.now()\r\n",
        "    for classifier_name, classifier in classifiers.items():\r\n",
        "      print(f\"Training {classifier_name}\", end='')\r\n",
        "      classifierStartTime = datetime.now()\r\n",
        "      classifier.fit(X_train, Y_train)\r\n",
        "      delta = datetime.now() - classifierStartTime\r\n",
        "      print(f'({datetime.now() - classifierStartTime})')\r\n",
        "      singleClassifiersRuntimeAcrossDifferentFolds[fold_index][classifier_name] = delta\r\n",
        "    print(f'Training all classifiers on data took {datetime.now() - trainStartTime}')\r\n",
        "\r\n",
        "    # Assemble ensembles of size k in {1,2,3,4,5}\r\n",
        "    for k in range(1,6):\r\n",
        "      print(\"\\t>>> k:\", k)\r\n",
        "      kStartTime = datetime.now()\r\n",
        "      for combination in list(itertools.combinations(classifiers.keys(), k)):\r\n",
        "        singleEnsembleStartTime = datetime.now()\r\n",
        "        ensemble = []\r\n",
        "        ensemble_description = \"\"\r\n",
        "\r\n",
        "        # group classifiers (already exist fitted in dict)\r\n",
        "        for idx in range(k):\r\n",
        "          ensemble.append(classifiers[combination[idx]])\r\n",
        "          ensemble_description += combination[idx]\r\n",
        "          ensemble_description += \"-\"\r\n",
        "        ensemble_description = ensemble_description[:-1]\r\n",
        "\r\n",
        "        # save predictions\r\n",
        "        predictions = np.zeros((len(X_test), k)) # (# test instances, ensemble size)\r\n",
        "        for idx, classifier in enumerate(ensemble):\r\n",
        "          predictions[:,idx] = classifier.predict(X_test)\r\n",
        "        \r\n",
        "        # do hard voting\r\n",
        "        hard_voting_predictions = np.zeros((len(X_test), 1)) # (# test instances, 1)\r\n",
        "        for idx in range(predictions.shape[0]):\r\n",
        "          values, counts = np.unique(predictions[idx], return_counts=True)\r\n",
        "          hard_voting_predictions[idx] = values[np.argmax(counts)]\r\n",
        "        \r\n",
        "        # compare voting predictions against Y_test\r\n",
        "        total_instance_number = len(X_test)\r\n",
        "        errors = 0\r\n",
        "        for idx in range(hard_voting_predictions.shape[0]):\r\n",
        "          if (hard_voting_predictions[idx][0] != Y_test[idx]):\r\n",
        "            errors += 1\r\n",
        "        score = errors/total_instance_number\r\n",
        "\r\n",
        "        # save result (ensemble description, ensemble size, fold index, dataset, score, timedelta)\r\n",
        "        results.append((ensemble_description, k, fold_index, dataset, score, datetime.now() - singleEnsembleStartTime))\r\n",
        "      print(f\"k took {datetime.now() - kStartTime}\")\r\n",
        "\r\n",
        "    fold_index += 1\r\n",
        "    print(\">>> fold took:\", datetime.now() - fold_start_time)\r\n",
        "        "
      ],
      "execution_count": 6,
      "outputs": [
        {
          "output_type": "stream",
          "text": [
            ">>> Fold 0\n",
            "Training Linear SVC(0:00:07.769272)\n",
            "Training Decision Tree(0:00:01.869228)\n",
            "Training Extra Tree(0:00:00.037778)\n",
            "Training Logistic(0:00:00.778444)\n",
            "Training Passive Aggressive(0:00:00.060395)\n",
            "Training Perceptron(0:00:04.112146)\n",
            "Training Ridge(0:00:00.061443)\n",
            "Training SGD(0:00:04.434244)\n",
            "Training Multi-layer Perceptron(0:00:07.301397)\n",
            "Training Linear Discriminant(0:00:00.207519)\n",
            "Training Quadratic Discriminant(0:00:00.051002)\n",
            "Training BernoulliNB(0:00:00.028529)\n",
            "Training Nearest Neighbors(0:00:00.004001)\n",
            "Training Extra Trees(0:00:06.035905)\n",
            "Training Random Forest (10 estimators)(0:00:01.948435)\n",
            "Training Gradient Boosting(0:00:40.241344)\n",
            "Training all classifiers on data took 0:01:14.944080\n",
            "\t>>> k: 1\n",
            "k took 0:00:02.613409\n",
            "\t>>> k: 2\n",
            "k took 0:00:31.206233\n",
            "\t>>> k: 3\n",
            "k took 0:03:15.285080\n",
            "\t>>> k: 4\n",
            "k took 0:13:25.901404\n",
            "\t>>> k: 5\n",
            "k took 0:41:42.276154\n",
            ">>> fold took: 1:00:12.237385\n",
            ">>> Fold 1\n",
            "Training Linear SVC(0:00:08.382566)\n",
            "Training Decision Tree(0:00:02.137589)\n",
            "Training Extra Tree(0:00:00.043713)\n",
            "Training Logistic(0:00:01.105121)\n",
            "Training Passive Aggressive(0:00:00.074998)\n",
            "Training Perceptron(0:00:04.872226)\n",
            "Training Ridge(0:00:00.044620)\n",
            "Training SGD(0:00:05.122278)\n",
            "Training Multi-layer Perceptron(0:00:04.936789)\n",
            "Training Linear Discriminant(0:00:00.211999)\n",
            "Training Quadratic Discriminant(0:00:00.072005)\n",
            "Training BernoulliNB(0:00:00.029997)\n",
            "Training Nearest Neighbors(0:00:00.004998)\n",
            "Training Extra Trees(0:00:04.724442)\n",
            "Training Random Forest (10 estimators)(0:00:01.939599)\n",
            "Training Gradient Boosting(0:00:45.291733)\n",
            "Training all classifiers on data took 0:01:19.000331\n",
            "\t>>> k: 1\n",
            "k took 0:00:02.884950\n",
            "\t>>> k: 2\n",
            "k took 0:00:34.851364\n",
            "\t>>> k: 3\n",
            "k took 0:03:44.098115\n",
            "\t>>> k: 4\n",
            "k took 0:15:57.608261\n",
            "\t>>> k: 5\n",
            "k took 0:43:47.031786\n",
            ">>> fold took: 1:05:25.501823\n",
            ">>> Fold 2\n",
            "Training Linear SVC(0:00:09.654028)\n",
            "Training Decision Tree(0:00:02.455545)\n",
            "Training Extra Tree(0:00:00.051915)\n",
            "Training Logistic(0:00:01.136091)\n",
            "Training Passive Aggressive(0:00:00.120001)\n",
            "Training Perceptron(0:00:04.903281)\n",
            "Training Ridge(0:00:00.043789)\n",
            "Training SGD(0:00:05.265477)\n",
            "Training Multi-layer Perceptron(0:00:08.161774)\n",
            "Training Linear Discriminant(0:00:00.204999)\n",
            "Training Quadratic Discriminant(0:00:00.067001)\n",
            "Training BernoulliNB(0:00:00.031001)\n",
            "Training Nearest Neighbors(0:00:00.006998)\n",
            "Training Extra Trees(0:00:04.632222)\n",
            "Training Random Forest (10 estimators)(0:00:01.727312)\n",
            "Training Gradient Boosting(0:00:46.741544)\n",
            "Training all classifiers on data took 0:01:25.207981\n",
            "\t>>> k: 1\n",
            "k took 0:00:03.138588\n",
            "\t>>> k: 2\n",
            "k took 0:00:37.767205\n",
            "\t>>> k: 3\n",
            "k took 0:04:02.973978\n",
            "\t>>> k: 4\n",
            "k took 0:16:19.471903\n",
            "\t>>> k: 5\n",
            "k took 0:52:13.805036\n",
            ">>> fold took: 1:14:42.390094\n",
            ">>> Fold 3\n",
            "Training Linear SVC(0:00:09.862965)\n",
            "Training Decision Tree(0:00:02.677474)\n",
            "Training Extra Tree(0:00:00.040570)\n",
            "Training Logistic(0:00:01.028498)\n",
            "Training Passive Aggressive(0:00:00.091137)\n",
            "Training Perceptron(0:00:05.131684)\n",
            "Training Ridge(0:00:00.039346)\n",
            "Training SGD(0:00:05.312503)\n",
            "Training Multi-layer Perceptron(0:00:05.800679)\n",
            "Training Linear Discriminant(0:00:00.266560)\n",
            "Training Quadratic Discriminant(0:00:00.088000)\n",
            "Training BernoulliNB(0:00:00.027003)\n",
            "Training Nearest Neighbors(0:00:00.005996)\n",
            "Training Extra Trees(0:00:04.616045)\n",
            "Training Random Forest (10 estimators)(0:00:01.706396)\n",
            "Training Gradient Boosting(0:00:47.306012)\n",
            "Training all classifiers on data took 0:01:24.006872\n",
            "\t>>> k: 1\n",
            "k took 0:00:03.425594\n",
            "\t>>> k: 2\n",
            "k took 0:00:38.615120\n",
            "\t>>> k: 3\n",
            "k took 0:04:08.161352\n",
            "\t>>> k: 4\n",
            "k took 0:17:51.176703\n",
            "\t>>> k: 5\n",
            "k took 0:50:10.824997\n",
            ">>> fold took: 1:14:16.234323\n",
            ">>> Fold 4\n",
            "Training Linear SVC(0:00:09.739252)\n",
            "Training Decision Tree(0:00:02.387023)\n",
            "Training Extra Tree(0:00:00.047012)\n",
            "Training Logistic(0:00:01.263991)\n",
            "Training Passive Aggressive(0:00:00.140998)\n",
            "Training Perceptron(0:00:05.240002)\n",
            "Training Ridge(0:00:00.038000)\n",
            "Training SGD(0:00:05.453999)\n",
            "Training Multi-layer Perceptron(0:00:04.847007)\n",
            "Training Linear Discriminant(0:00:00.231993)\n",
            "Training Quadratic Discriminant(0:00:00.085998)\n",
            "Training BernoulliNB(0:00:00.031001)\n",
            "Training Nearest Neighbors(0:00:00.006998)\n",
            "Training Extra Trees(0:00:04.433002)\n",
            "Training Random Forest (10 estimators)(0:00:01.746552)\n",
            "Training Gradient Boosting(0:00:46.135513)\n",
            "Training all classifiers on data took 0:01:21.831343\n",
            "\t>>> k: 1\n",
            "k took 0:00:03.389997\n",
            "\t>>> k: 2\n",
            "k took 0:00:38.228045\n",
            "\t>>> k: 3\n",
            "k took 0:04:02.632994\n",
            "\t>>> k: 4\n",
            "k took 0:16:42.117983\n",
            "\t>>> k: 5\n",
            "k took 0:49:33.226428\n",
            ">>> fold took: 1:12:21.456707\n",
            ">>> Fold 5\n",
            "Training Linear SVC(0:00:11.282145)\n",
            "Training Decision Tree(0:00:02.355450)\n",
            "Training Extra Tree(0:00:00.055194)\n",
            "Training Logistic(0:00:00.949268)\n",
            "Training Passive Aggressive(0:00:00.164001)\n",
            "Training Perceptron(0:00:05.330215)\n",
            "Training Ridge(0:00:00.042841)\n",
            "Training SGD(0:00:05.959716)\n",
            "Training Multi-layer Perceptron(0:00:05.096846)\n",
            "Training Linear Discriminant(0:00:00.264008)\n",
            "Training Quadratic Discriminant(0:00:00.117999)\n",
            "Training BernoulliNB(0:00:00.037003)\n",
            "Training Nearest Neighbors(0:00:00.008003)\n",
            "Training Extra Trees(0:00:05.223347)\n",
            "Training Random Forest (10 estimators)(0:00:01.783920)\n",
            "Training Gradient Boosting(0:00:48.746288)\n",
            "Training all classifiers on data took 0:01:27.420190\n",
            "\t>>> k: 1\n",
            "k took 0:00:03.830296\n",
            "\t>>> k: 2\n",
            "k took 0:00:40.351665\n",
            "\t>>> k: 3\n",
            "k took 0:04:12.187290\n",
            "\t>>> k: 4\n",
            "k took 0:16:57.047635\n",
            "\t>>> k: 5\n",
            "k took 0:49:13.692422\n",
            ">>> fold took: 1:12:34.562595\n",
            ">>> Fold 6\n",
            "Training Linear SVC(0:00:09.874825)\n",
            "Training Decision Tree(0:00:02.494399)\n",
            "Training Extra Tree(0:00:00.053396)\n",
            "Training Logistic(0:00:00.722081)\n",
            "Training Passive Aggressive(0:00:00.131884)\n",
            "Training Perceptron(0:00:00.286285)\n",
            "Training Ridge(0:00:00.039933)\n",
            "Training SGD(0:00:03.291119)\n",
            "Training Multi-layer Perceptron(0:00:04.973526)\n",
            "Training Linear Discriminant(0:00:00.235998)\n",
            "Training Quadratic Discriminant(0:00:00.084000)\n",
            "Training BernoulliNB(0:00:00.035998)\n",
            "Training Nearest Neighbors(0:00:00.008000)\n",
            "Training Extra Trees(0:00:04.508279)\n",
            "Training Random Forest (10 estimators)(0:00:01.806757)\n",
            "Training Gradient Boosting(0:00:46.563062)\n",
            "Training all classifiers on data took 0:01:15.113739\n",
            "\t>>> k: 1\n",
            "k took 0:00:03.194231\n",
            "\t>>> k: 2\n",
            "k took 0:00:38.778403\n",
            "\t>>> k: 3\n",
            "k took 0:04:11.794469\n",
            "\t>>> k: 4\n",
            "k took 0:16:27.217518\n",
            "\t>>> k: 5\n",
            "k took 0:40:36.965100\n",
            ">>> fold took: 1:03:13.085601\n",
            ">>> Fold 7\n",
            "Training Linear SVC(0:00:06.347999)\n",
            "Training Decision Tree(0:00:01.883055)\n",
            "Training Extra Tree(0:00:00.031945)\n",
            "Training Logistic(0:00:00.350999)\n",
            "Training Passive Aggressive(0:00:00.185998)\n",
            "Training Perceptron(0:00:00.139003)\n",
            "Training Ridge(0:00:00.030995)\n",
            "Training SGD(0:00:00.666013)\n",
            "Training Multi-layer Perceptron(0:00:07.555969)\n",
            "Training Linear Discriminant(0:00:00.173000)\n",
            "Training Quadratic Discriminant(0:00:00.049998)\n",
            "Training BernoulliNB(0:00:00.025006)\n",
            "Training Nearest Neighbors(0:00:00.005000)\n",
            "Training Extra Trees(0:00:03.269997)\n",
            "Training Random Forest (10 estimators)(0:00:01.392037)\n",
            "Training Gradient Boosting(0:00:37.047093)\n",
            "Training all classifiers on data took 0:00:59.162130\n",
            "\t>>> k: 1\n",
            "k took 0:00:02.596053\n",
            "\t>>> k: 2\n",
            "k took 0:00:30.521027\n",
            "\t>>> k: 3\n",
            "k took 0:03:31.019178\n",
            "\t>>> k: 4\n",
            "k took 0:14:34.696662\n",
            "\t>>> k: 5\n",
            "k took 0:43:17.988954\n",
            ">>> fold took: 1:02:56.003970\n",
            ">>> Fold 8\n",
            "Training Linear SVC(0:00:09.446915)\n",
            "Training Decision Tree(0:00:02.250180)\n",
            "Training Extra Tree(0:00:00.056525)\n",
            "Training Logistic(0:00:00.830997)\n",
            "Training Passive Aggressive(0:00:00.093998)\n",
            "Training Perceptron(0:00:04.312005)\n",
            "Training Ridge(0:00:00.031999)\n",
            "Training SGD(0:00:04.413191)\n",
            "Training Multi-layer Perceptron(0:00:04.445115)\n",
            "Training Linear Discriminant(0:00:00.221519)\n",
            "Training Quadratic Discriminant(0:00:00.088996)\n",
            "Training BernoulliNB(0:00:00.032956)\n",
            "Training Nearest Neighbors(0:00:00.009004)\n",
            "Training Extra Trees(0:00:04.571436)\n",
            "Training Random Forest (10 estimators)(0:00:01.854520)\n",
            "Training Gradient Boosting(0:00:45.056192)\n",
            "Training all classifiers on data took 0:01:17.724650\n",
            "\t>>> k: 1\n",
            "k took 0:00:02.967428\n",
            "\t>>> k: 2\n",
            "k took 0:00:34.408082\n",
            "\t>>> k: 3\n",
            "k took 0:03:47.254788\n",
            "\t>>> k: 4\n",
            "k took 0:14:43.269109\n",
            "\t>>> k: 5\n",
            "k took 0:43:38.820724\n",
            ">>> fold took: 1:04:04.471045\n",
            ">>> Fold 9\n",
            "Training Linear SVC(0:00:07.946749)\n",
            "Training Decision Tree(0:00:02.042904)\n",
            "Training Extra Tree(0:00:00.046658)\n",
            "Training Logistic(0:00:00.927972)\n",
            "Training Passive Aggressive(0:00:00.090238)\n",
            "Training Perceptron(0:00:04.481673)\n",
            "Training Ridge(0:00:00.039992)\n",
            "Training SGD(0:00:04.962048)\n",
            "Training Multi-layer Perceptron(0:00:08.275809)\n",
            "Training Linear Discriminant(0:00:00.230932)\n",
            "Training Quadratic Discriminant(0:00:00.091008)\n",
            "Training BernoulliNB(0:00:00.031987)\n",
            "Training Nearest Neighbors(0:00:00.006999)\n",
            "Training Extra Trees(0:00:05.013315)\n",
            "Training Random Forest (10 estimators)(0:00:01.884332)\n",
            "Training Gradient Boosting(0:00:44.098650)\n",
            "Training all classifiers on data took 0:01:20.182395\n",
            "\t>>> k: 1\n",
            "k took 0:00:02.972628\n",
            "\t>>> k: 2\n",
            "k took 0:00:35.138482\n",
            "\t>>> k: 3\n",
            "k took 0:03:55.420924\n",
            "\t>>> k: 4\n",
            "k took 0:16:24.277013\n",
            "\t>>> k: 5\n",
            "k took 0:43:27.512611\n",
            ">>> fold took: 1:05:45.523904\n"
          ],
          "name": "stdout"
        }
      ]
    },
    {
      "cell_type": "markdown",
      "metadata": {
        "id": "ju1w2RGxk1lc"
      },
      "source": [
        "## Analysing results"
      ]
    },
    {
      "cell_type": "markdown",
      "metadata": {
        "id": "scSXWuWTlEVx"
      },
      "source": [
        "### Utility functions"
      ]
    },
    {
      "cell_type": "code",
      "metadata": {
        "id": "4vVQX6L1lKVd"
      },
      "source": [
        "def saveResultsAsCsv(filename, headers, rows):\r\n",
        "  if len(headers) == len(rows[0]):\r\n",
        "    with open(filename,'w') as file:\r\n",
        "      file.write(','.join(headers))\r\n",
        "      file.write('\\n')\r\n",
        "      for row in rows:\r\n",
        "        file.write(','.join(list(map(lambda rc: str(rc), row))))\r\n",
        "        file.write('\\n')\r\n",
        "  else:\r\n",
        "    raise Exception('length of headers does not match length of single rows.')\r\n",
        "\r\n",
        "def filterResultsByDataset(datasetName, results):\r\n",
        "  return list(filter(lambda res: str(res[2]) == datasetName, results))\r\n",
        "\r\n",
        "def loadResultsFromCsv(filename):\r\n",
        "  loadedResults = []\r\n",
        "  with open(filename) as file:\r\n",
        "    loadedResults = list(map(lambda entry: entry.split(','), [x.strip() for x in file.readlines()]))\r\n",
        "  file.close()\r\n",
        "  print('Headers are:', loadedResults[0])\r\n",
        "  del loadedResults[0]\r\n",
        "  return loadedResults\r\n"
      ],
      "execution_count": 7,
      "outputs": []
    },
    {
      "cell_type": "markdown",
      "metadata": {
        "id": "pFYgGR4blnTo"
      },
      "source": [
        "### Aggregate data"
      ]
    },
    {
      "cell_type": "code",
      "metadata": {
        "id": "D5gaTRHclGZo"
      },
      "source": [
        "results = list(map(lambda entry: (entry[0], entry[1], entry[2], entry[3], entry[4], entry[5].total_seconds()*1000), results))"
      ],
      "execution_count": 8,
      "outputs": []
    },
    {
      "cell_type": "code",
      "metadata": {
        "id": "93_jB0a7nEKs"
      },
      "source": [
        "resultsDf = pd.DataFrame(results, columns=['ensembleDescription', 'ensembleSize', 'foldIndex', 'dataset', 'errorRate', 'timeTaken'])"
      ],
      "execution_count": 9,
      "outputs": []
    },
    {
      "cell_type": "code",
      "metadata": {
        "id": "MxjQN8YbnFMb"
      },
      "source": [
        "finalResults = []\r\n",
        "\r\n",
        "# (ensemble description, ensemble size, fold index, dataset, score, timedelta)\r\n",
        "for ensemble_description, matchingResults in resultsDf.groupby(['ensembleDescription']):\r\n",
        "  matchingIterable = matchingResults.values\r\n",
        "  meanError = 0\r\n",
        "  meanTimeTaken = 0\r\n",
        "  for row in matchingIterable:\r\n",
        "    meanError += float(row[4])\r\n",
        "    meanTimeTaken += float(row[5])\r\n",
        "  meanError /= 10\r\n",
        "  meanTimeTaken /= 10\r\n",
        "  # (ensemble_description, ensemble_size, dataset, mean_error, time_taken)\r\n",
        "  finalResults.append((\r\n",
        "      ensemble_description, # matchingIterable[0][0]\r\n",
        "      matchingIterable[0][1], \r\n",
        "      matchingIterable[0][3], \r\n",
        "      meanError, \r\n",
        "      meanTimeTaken\r\n",
        "  ))"
      ],
      "execution_count": 10,
      "outputs": []
    },
    {
      "cell_type": "code",
      "metadata": {
        "id": "T9QYgGRnPfgT"
      },
      "source": [
        "finalResults = loadResultsFromCsv('finalResults.csv')"
      ],
      "execution_count": null,
      "outputs": []
    },
    {
      "cell_type": "markdown",
      "metadata": {
        "id": "TSMHbcE-rJRd"
      },
      "source": [
        "### Save results"
      ]
    },
    {
      "cell_type": "code",
      "metadata": {
        "id": "2rikxkjMrOFX"
      },
      "source": [
        "saveResultsAsCsv('finalResultsMiniBooNE.csv', ['ensembleDescription', 'k', 'dataset', 'errorRate', 'timeTaken'], finalResults)"
      ],
      "execution_count": 11,
      "outputs": []
    },
    {
      "cell_type": "markdown",
      "metadata": {
        "id": "wdnGpkoRT2tG"
      },
      "source": [
        "### Load results"
      ]
    },
    {
      "cell_type": "code",
      "metadata": {
        "id": "BA_J9oNNT4qH",
        "colab": {
          "base_uri": "https://localhost:8080/"
        },
        "outputId": "a47c6f5f-d7e9-441a-c28e-6bac0a230d1d"
      },
      "source": [
        "finalResults = loadResultsFromCsv('finalResultsMiniBooNE.csv')\r\n",
        "resultsDf = pd.read_csv('finalResultsMiniBooNE.csv')"
      ],
      "execution_count": 14,
      "outputs": [
        {
          "output_type": "stream",
          "text": [
            "Headers are: ['ensembleDescription', 'k', 'dataset', 'errorRate', 'timeTaken']\n"
          ],
          "name": "stdout"
        }
      ]
    },
    {
      "cell_type": "markdown",
      "metadata": {
        "id": "6nL_M4UJqSog"
      },
      "source": [
        "### Metrics"
      ]
    },
    {
      "cell_type": "markdown",
      "metadata": {
        "id": "17hLSwlgqcQw"
      },
      "source": [
        "#### Error rates for different sizes of k"
      ]
    },
    {
      "cell_type": "code",
      "metadata": {
        "id": "nVysIdAcpB-Y",
        "colab": {
          "base_uri": "https://localhost:8080/",
          "height": 281
        },
        "outputId": "b10af4e0-e6d6-4b1e-c89f-4bfdfe0c2f57"
      },
      "source": [
        "for dataset, matchingResults in resultsDf.groupby(['dataset']): \r\n",
        "  boxplots = []\r\n",
        "  for k, matchingKs in matchingResults.groupby(['k']):\r\n",
        "    boxplots.append(matchingKs['errorRate'].values)\r\n",
        "  fig, ax = plt.subplots()\r\n",
        "  ax.boxplot(boxplots)\r\n",
        "  ax.set_title(dataset)\r\n",
        "  plt.show()  "
      ],
      "execution_count": 15,
      "outputs": [
        {
          "output_type": "display_data",
          "data": {
            "text/plain": [
              "<Figure size 432x288 with 1 Axes>"
            ],
            "image/png": "[encoded data removed]"
          },
          "metadata": {
            "tags": [],
            "needs_background": "light"
          }
        }
      ]
    },
    {
      "cell_type": "markdown",
      "metadata": {
        "id": "_54zvHabpJp0"
      },
      "source": [
        "#### Best single learners for every dataset"
      ]
    },
    {
      "cell_type": "code",
      "metadata": {
        "id": "1vTSoKttpN1r",
        "colab": {
          "base_uri": "https://localhost:8080/"
        },
        "outputId": "b755f583-9ec8-421c-a8d1-c534f3f13497"
      },
      "source": [
        "bestSingleLearners = {} # dataset: (ensembleDescription, errorRate)\r\n",
        "\r\n",
        "for dataset, matchingResults in resultsDf.groupby(['dataset']): \r\n",
        "  matchingK1s = matchingResults.loc[resultsDf['k'] == 1]\r\n",
        "  minIndex = matchingK1s['errorRate'].idxmin()\r\n",
        "  minRow = resultsDf.iloc[minIndex]\r\n",
        "  bestSingleLearners[dataset] = (minRow['ensembleDescription'], minRow['errorRate'])\r\n",
        "\r\n",
        "bestSingleLearners"
      ],
      "execution_count": 16,
      "outputs": [
        {
          "output_type": "execute_result",
          "data": {
            "text/plain": [
              "{'MiniBooNE': ('Gradient Boosting', 0.0724399999999999)}"
            ]
          },
          "metadata": {
            "tags": []
          },
          "execution_count": 16
        }
      ]
    },
    {
      "cell_type": "markdown",
      "metadata": {
        "id": "--KHaeYhq5lm"
      },
      "source": [
        "#### For every $k \\in \\{2,3,4,5\\}$, how many ensembles do improve over the single best learner by at least $0.005$ (absolute and relative counts of improvement)"
      ]
    },
    {
      "cell_type": "code",
      "metadata": {
        "id": "pm-tsV5_lMwV",
        "colab": {
          "base_uri": "https://localhost:8080/",
          "height": 545
        },
        "outputId": "9583faef-f129-4859-cdb3-6b57ff62be6b"
      },
      "source": [
        "resultsDf[resultsDf['k'] == 1]"
      ],
      "execution_count": 17,
      "outputs": [
        {
          "output_type": "execute_result",
          "data": {
            "text/plain": [
              "                ensembleDescription  k    dataset  errorRate  timeTaken\n",
              "0                       BernoulliNB  1  MiniBooNE    0.22420    96.9952\n",
              "16                    Decision Tree  1  MiniBooNE    0.11932    91.6399\n",
              "1487                     Extra Tree  1  MiniBooNE    0.14584    78.1370\n",
              "2580                    Extra Trees  1  MiniBooNE    0.07544   152.6271\n",
              "2584              Gradient Boosting  1  MiniBooNE    0.07244    72.5771\n",
              "2585            Linear Discriminant  1  MiniBooNE    0.09772    96.6066\n",
              "2642                     Linear SVC  1  MiniBooNE    0.12376    92.1159\n",
              "4583                       Logistic  1  MiniBooNE    0.14744    91.9513\n",
              "5377         Multi-layer Perceptron  1  MiniBooNE    0.09556    99.6581\n",
              "5476              Nearest Neighbors  1  MiniBooNE    0.12228  1690.8463\n",
              "5484             Passive Aggressive  1  MiniBooNE    0.20236    95.8149\n",
              "6046                     Perceptron  1  MiniBooNE    0.25396    85.9555\n",
              "6432         Quadratic Discriminant  1  MiniBooNE    0.28040    99.5974\n",
              "6463  Random Forest (10 estimators)  1  MiniBooNE    0.08600    73.3986\n",
              "6465                          Ridge  1  MiniBooNE    0.09792    92.5598\n",
              "6721                            SGD  1  MiniBooNE    0.25936    90.4360"
            ],
            "text/html": [
              "<div>\n",
              "<style scoped>\n",
              "    .dataframe tbody tr th:only-of-type {\n",
              "        vertical-align: middle;\n",
              "    }\n",
              "\n",
              "    .dataframe tbody tr th {\n",
              "        vertical-align: top;\n",
              "    }\n",
              "\n",
              "    .dataframe thead th {\n",
              "        text-align: right;\n",
              "    }\n",
              "</style>\n",
              "<table border=\"1\" class=\"dataframe\">\n",
              "  <thead>\n",
              "    <tr style=\"text-align: right;\">\n",
              "      <th></th>\n",
              "      <th>ensembleDescription</th>\n",
              "      <th>k</th>\n",
              "      <th>dataset</th>\n",
              "      <th>errorRate</th>\n",
              "      <th>timeTaken</th>\n",
              "    </tr>\n",
              "  </thead>\n",
              "  <tbody>\n",
              "    <tr>\n",
              "      <th>0</th>\n",
              "      <td>BernoulliNB</td>\n",
              "      <td>1</td>\n",
              "      <td>MiniBooNE</td>\n",
              "      <td>0.22420</td>\n",
              "      <td>96.9952</td>\n",
              "    </tr>\n",
              "    <tr>\n",
              "      <th>16</th>\n",
              "      <td>Decision Tree</td>\n",
              "      <td>1</td>\n",
              "      <td>MiniBooNE</td>\n",
              "      <td>0.11932</td>\n",
              "      <td>91.6399</td>\n",
              "    </tr>\n",
              "    <tr>\n",
              "      <th>1487</th>\n",
              "      <td>Extra Tree</td>\n",
              "      <td>1</td>\n",
              "      <td>MiniBooNE</td>\n",
              "      <td>0.14584</td>\n",
              "      <td>78.1370</td>\n",
              "    </tr>\n",
              "    <tr>\n",
              "      <th>2580</th>\n",
              "      <td>Extra Trees</td>\n",
              "      <td>1</td>\n",
              "      <td>MiniBooNE</td>\n",
              "      <td>0.07544</td>\n",
              "      <td>152.6271</td>\n",
              "    </tr>\n",
              "    <tr>\n",
              "      <th>2584</th>\n",
              "      <td>Gradient Boosting</td>\n",
              "      <td>1</td>\n",
              "      <td>MiniBooNE</td>\n",
              "      <td>0.07244</td>\n",
              "      <td>72.5771</td>\n",
              "    </tr>\n",
              "    <tr>\n",
              "      <th>2585</th>\n",
              "      <td>Linear Discriminant</td>\n",
              "      <td>1</td>\n",
              "      <td>MiniBooNE</td>\n",
              "      <td>0.09772</td>\n",
              "      <td>96.6066</td>\n",
              "    </tr>\n",
              "    <tr>\n",
              "      <th>2642</th>\n",
              "      <td>Linear SVC</td>\n",
              "      <td>1</td>\n",
              "      <td>MiniBooNE</td>\n",
              "      <td>0.12376</td>\n",
              "      <td>92.1159</td>\n",
              "    </tr>\n",
              "    <tr>\n",
              "      <th>4583</th>\n",
              "      <td>Logistic</td>\n",
              "      <td>1</td>\n",
              "      <td>MiniBooNE</td>\n",
              "      <td>0.14744</td>\n",
              "      <td>91.9513</td>\n",
              "    </tr>\n",
              "    <tr>\n",
              "      <th>5377</th>\n",
              "      <td>Multi-layer Perceptron</td>\n",
              "      <td>1</td>\n",
              "      <td>MiniBooNE</td>\n",
              "      <td>0.09556</td>\n",
              "      <td>99.6581</td>\n",
              "    </tr>\n",
              "    <tr>\n",
              "      <th>5476</th>\n",
              "      <td>Nearest Neighbors</td>\n",
              "      <td>1</td>\n",
              "      <td>MiniBooNE</td>\n",
              "      <td>0.12228</td>\n",
              "      <td>1690.8463</td>\n",
              "    </tr>\n",
              "    <tr>\n",
              "      <th>5484</th>\n",
              "      <td>Passive Aggressive</td>\n",
              "      <td>1</td>\n",
              "      <td>MiniBooNE</td>\n",
              "      <td>0.20236</td>\n",
              "      <td>95.8149</td>\n",
              "    </tr>\n",
              "    <tr>\n",
              "      <th>6046</th>\n",
              "      <td>Perceptron</td>\n",
              "      <td>1</td>\n",
              "      <td>MiniBooNE</td>\n",
              "      <td>0.25396</td>\n",
              "      <td>85.9555</td>\n",
              "    </tr>\n",
              "    <tr>\n",
              "      <th>6432</th>\n",
              "      <td>Quadratic Discriminant</td>\n",
              "      <td>1</td>\n",
              "      <td>MiniBooNE</td>\n",
              "      <td>0.28040</td>\n",
              "      <td>99.5974</td>\n",
              "    </tr>\n",
              "    <tr>\n",
              "      <th>6463</th>\n",
              "      <td>Random Forest (10 estimators)</td>\n",
              "      <td>1</td>\n",
              "      <td>MiniBooNE</td>\n",
              "      <td>0.08600</td>\n",
              "      <td>73.3986</td>\n",
              "    </tr>\n",
              "    <tr>\n",
              "      <th>6465</th>\n",
              "      <td>Ridge</td>\n",
              "      <td>1</td>\n",
              "      <td>MiniBooNE</td>\n",
              "      <td>0.09792</td>\n",
              "      <td>92.5598</td>\n",
              "    </tr>\n",
              "    <tr>\n",
              "      <th>6721</th>\n",
              "      <td>SGD</td>\n",
              "      <td>1</td>\n",
              "      <td>MiniBooNE</td>\n",
              "      <td>0.25936</td>\n",
              "      <td>90.4360</td>\n",
              "    </tr>\n",
              "  </tbody>\n",
              "</table>\n",
              "</div>"
            ]
          },
          "metadata": {
            "tags": []
          },
          "execution_count": 17
        }
      ]
    },
    {
      "cell_type": "code",
      "metadata": {
        "id": "sXxF7SdyvCHd"
      },
      "source": [
        "improvementMargin = 0.001\r\n",
        "\r\n",
        "improvementEnsembles = {dataset: [] for dataset in bestSingleLearners.keys()} # dataset: (ensembleDescription, errorRate, k)\r\n",
        "\r\n",
        "for dataset, matchingResults in resultsDf.groupby(['dataset']): \r\n",
        "  for k, matchingKs in matchingResults.groupby(['k']):\r\n",
        "    if k != 1: # ...\r\n",
        "      for i, row in matchingKs.iterrows():\r\n",
        "        if (row['errorRate'] + improvementMargin) < bestSingleLearners[dataset][1]:\r\n",
        "          improvementEnsembles[dataset].append((row['ensembleDescription'], row['errorRate'], k))"
      ],
      "execution_count": 29,
      "outputs": []
    },
    {
      "cell_type": "code",
      "metadata": {
        "id": "AhWhd6OyygLb",
        "colab": {
          "base_uri": "https://localhost:8080/"
        },
        "outputId": "54b2cf8a-d082-4fa6-c33d-21283c5f326b"
      },
      "source": [
        "for dataset in improvementEnsembles.keys():\r\n",
        "  print(f\"\\n{dataset}'s best single learner had an error rate of: {bestSingleLearners[dataset][1]}\")\r\n",
        "  nImproved = len(improvementEnsembles[dataset])\r\n",
        "  print(f\"\\t{nImproved} ({round(nImproved/resultsDf[(resultsDf['dataset'] == dataset) & (resultsDf['k'] != 1)]['dataset'].count()*100, 2)}%) ensembles improved by at least {improvementMargin} ({improvementMargin*100}%)\")\r\n",
        "  for k in range(2, 6):\r\n",
        "    matchingImprovementEnsemblesWithK = list(filter(lambda entry: entry[2] == k, improvementEnsembles[dataset]))\r\n",
        "    print(f\"\\t\\t{len(matchingImprovementEnsemblesWithK)} with k={k} - mean error rate: {np.mean(list(map(lambda tup: tup[1], matchingImprovementEnsemblesWithK)))}\")"
      ],
      "execution_count": 30,
      "outputs": [
        {
          "output_type": "stream",
          "text": [
            "\n",
            "MiniBooNE's best single learner had an error rate of: 0.0724399999999999\n",
            "\t0 (0.0%) ensembles improved by at least 0.001 (0.1%)\n",
            "\t\t0 with k=2 - mean error rate: nan\n",
            "\t\t0 with k=3 - mean error rate: nan\n",
            "\t\t0 with k=4 - mean error rate: nan\n",
            "\t\t0 with k=5 - mean error rate: nan\n"
          ],
          "name": "stdout"
        },
        {
          "output_type": "stream",
          "text": [
            "C:\\Users\\aceve\\miniconda3\\lib\\site-packages\\numpy\\core\\_methods.py:170: RuntimeWarning: invalid value encountered in double_scalars\n",
            "  ret = ret.dtype.type(ret / rcount)\n"
          ],
          "name": "stderr"
        }
      ]
    },
    {
      "cell_type": "markdown",
      "metadata": {
        "id": "akz8ZeAD3TeB"
      },
      "source": [
        "#### For each base learner understand in how many improving ensembles it is contained (absolute and relative numbers)"
      ]
    },
    {
      "cell_type": "code",
      "metadata": {
        "id": "Ix4Xqxme34Ym",
        "colab": {
          "base_uri": "https://localhost:8080/"
        },
        "outputId": "89b4dc04-742f-404e-a97d-159f942cf73c"
      },
      "source": [
        "for dataset in datasets.keys():\r\n",
        "  print(f'Dataset: {dataset}')\r\n",
        "  improvers = [] # classifier, timesAppearedInImprovements, timesAppearedInImprovementsRelative\r\n",
        "  for classifier in classifiers.keys():\r\n",
        "    timesAppearedInImprovements = 0\r\n",
        "    for row in improvementEnsembles[dataset]:\r\n",
        "      if classifier in row[0]:\r\n",
        "        timesAppearedInImprovements += 1\r\n",
        "    if len(improvementEnsembles[dataset]) != 0:\r\n",
        "      improvers.append((classifier, timesAppearedInImprovements, timesAppearedInImprovements/len(improvementEnsembles[dataset])))\r\n",
        "    else:\r\n",
        "      improvers.append((classifier, 0, 0))\r\n",
        "\r\n",
        "  for entry in sorted(improvers, key=lambda tup: tup[1], reverse=True):\r\n",
        "    print(f\"\\t{entry[0]}: {entry[1]} ({entry[2]*100}%)\")\r\n",
        "  print()"
      ],
      "execution_count": 31,
      "outputs": [
        {
          "output_type": "stream",
          "text": [
            "Dataset: MiniBooNE\n",
            "\tLinear SVC: 0 (0%)\n",
            "\tDecision Tree: 0 (0%)\n",
            "\tExtra Tree: 0 (0%)\n",
            "\tLogistic: 0 (0%)\n",
            "\tPassive Aggressive: 0 (0%)\n",
            "\tPerceptron: 0 (0%)\n",
            "\tRidge: 0 (0%)\n",
            "\tSGD: 0 (0%)\n",
            "\tMulti-layer Perceptron: 0 (0%)\n",
            "\tLinear Discriminant: 0 (0%)\n",
            "\tQuadratic Discriminant: 0 (0%)\n",
            "\tBernoulliNB: 0 (0%)\n",
            "\tNearest Neighbors: 0 (0%)\n",
            "\tExtra Trees: 0 (0%)\n",
            "\tRandom Forest (10 estimators): 0 (0%)\n",
            "\tGradient Boosting: 0 (0%)\n",
            "\n"
          ],
          "name": "stdout"
        }
      ]
    }
  ]
}