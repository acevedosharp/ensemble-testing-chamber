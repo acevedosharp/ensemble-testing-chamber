{
  "nbformat": 4,
  "nbformat_minor": 0,
  "metadata": {
    "colab": {
      "name": "ensemble-classifier-combination-tester.ipynb",
      "provenance": [],
      "authorship_tag": "ABX9TyPuhKT8xgeoRSULBGKGZF06",
      "include_colab_link": true
    },
    "kernelspec": {
      "name": "python3",
      "display_name": "Python 3"
    }
  },
  "cells": [
    {
      "cell_type": "markdown",
      "metadata": {
        "id": "view-in-github",
        "colab_type": "text"
      },
      "source": [
        "<a href=\"https://colab.research.google.com/github/acevedosharp/ensemble-testing-chamber/blob/master/notebooks/ensemble_classifier_combination_tester.ipynb\" target=\"_parent\"><img src=\"https://colab.research.google.com/assets/colab-badge.svg\" alt=\"Open In Colab\"/></a>"
      ]
    },
    {
      "cell_type": "markdown",
      "metadata": {
        "id": "S5POcuMGvFbr"
      },
      "source": [
        "# Measuring the effectiveness of ensembles"
      ]
    },
    {
      "cell_type": "markdown",
      "metadata": {
        "id": "3VVkWfGqHHs6"
      },
      "source": [
        "- assemble all possible combination of ensembles $k \\in \\{1,2,3,4,5\\}$\r\n",
        "- 10-fold cross validation\r\n",
        "- the single best learner (according to some cross-validation) for each dataset\r\n",
        "- for each $k \\in \\{2,3,4,5\\}$, how many ensembles do improve over the single best learner by at least $0.005$ (absolute and relative counts of improvement)\r\n",
        "- for each base learner understand in how many improving ensembles it is contained (absolute and relative numbers)"
      ]
    },
    {
      "cell_type": "markdown",
      "metadata": {
        "id": "LCu4pVZQvAQq"
      },
      "source": [
        "## Experimental setup"
      ]
    },
    {
      "cell_type": "code",
      "metadata": {
        "id": "eOTCnQy8CnV0"
      },
      "source": [
        "# ignore sklearn warnings\r\n",
        "def warn(*args, **kwargs):\r\n",
        "    pass\r\n",
        "import warnings\r\n",
        "warnings.warn = warn\r\n",
        "\r\n",
        "import itertools\r\n",
        "import random\r\n",
        "import openml\r\n",
        "import numpy as np\r\n",
        "import pandas as pd\r\n",
        "import sklearn\r\n",
        "from datetime import datetime\r\n",
        "import matplotlib.pyplot as plt\r\n",
        "from functools import reduce\r\n",
        "\r\n",
        "from sklearn.model_selection import KFold\r\n",
        "from sklearn.model_selection import train_test_split\r\n",
        "from sklearn.preprocessing import StandardScaler\r\n",
        "from sklearn.preprocessing import LabelEncoder\r\n",
        "from sklearn.impute import KNNImputer\r\n",
        "\r\n",
        "# classifiers\r\n",
        "from sklearn.svm import LinearSVC\r\n",
        "from sklearn.tree import DecisionTreeClassifier\r\n",
        "from sklearn.tree import ExtraTreeClassifier\r\n",
        "from sklearn.linear_model import LogisticRegression\r\n",
        "from sklearn.linear_model import PassiveAggressiveClassifier\r\n",
        "from sklearn.linear_model import Perceptron\r\n",
        "from sklearn.linear_model import RidgeClassifier\r\n",
        "from sklearn.linear_model import SGDClassifier\r\n",
        "from sklearn.neural_network import MLPClassifier\r\n",
        "from sklearn.discriminant_analysis import LinearDiscriminantAnalysis\r\n",
        "from sklearn.discriminant_analysis import QuadraticDiscriminantAnalysis\r\n",
        "from sklearn.naive_bayes import BernoulliNB\r\n",
        "from sklearn.naive_bayes import MultinomialNB\r\n",
        "from sklearn.neighbors import KNeighborsClassifier\r\n",
        "from sklearn.ensemble import ExtraTreesClassifier\r\n",
        "from sklearn.ensemble import RandomForestClassifier\r\n",
        "from sklearn.ensemble import GradientBoostingClassifier\r\n",
        "\r\n",
        "from datetime import datetime"
      ],
      "execution_count": 107,
      "outputs": []
    },
    {
      "cell_type": "code",
      "metadata": {
        "id": "fEHheHDUezaf"
      },
      "source": [
        "allDatasets = [\r\n",
        "  (1485 , 'madelon'),\r\n",
        "  # (42734, 'okcupid-stem'), requires too much preprocessing\r\n",
        "  (1169 , 'airlines'),\r\n",
        "  # (42733, 'Click_prediction_small'), after creating dummy columns it becomes way too large to fit on machines with less than 32gb of memory.\r\n",
        "  (41150, 'MiniBooNE'),\r\n",
        "  (54   , 'vehicle'), \r\n",
        "  (40981, 'Australian'),\r\n",
        "  (40975, 'car'),\r\n",
        "  (40670, 'dna'),\r\n",
        "  (31   , 'credit-g'),\r\n",
        "  (41169, 'helena'),\r\n",
        "  (41168, 'jannis'),\r\n",
        "  (41167, 'di  nis'),\r\n",
        "  (41166, 'volkert'),\r\n",
        "  (41165, 'robert'),\r\n",
        "  (41164, 'fabert'),\r\n",
        "  (41163, 'dilbert'),\r\n",
        "  (41162, 'kick'),\r\n",
        "  (41161, 'riccardo'),\r\n",
        "  (41159, 'guillermo'),\r\n",
        "]\r\n",
        "\r\n",
        "indicesToRun = [2] # list(range(len(allDatasets)))\r\n",
        "rawDatasets = { allDatasets[i][1]: openml.datasets.get_dataset(allDatasets[i][0]) for i in indicesToRun } # download the datasets that will actually be used for the experiment\r\n",
        "\r\n",
        "datasets = { }\r\n",
        "\r\n",
        "for datasetName, rawDataset in rawDatasets.items():\r\n",
        "  X, Y, categorical_indicator, attribute_names = rawDatasets[datasetName].get_data(\r\n",
        "    dataset_format=\"dataframe\", target=rawDatasets[datasetName].default_target_attribute\r\n",
        "  )\r\n",
        "  if X.shape[0] > 25000: \r\n",
        "    arr = np.arange(0, X.shape[0])\r\n",
        "    random.shuffle(arr)\r\n",
        "    X = X.iloc[arr[:25000]]\r\n",
        "    Y = Y.iloc[arr[:25000]]\r\n",
        "  \r\n",
        "  X = pd.get_dummies(X).to_numpy()\r\n",
        "  Y = Y.to_numpy()\r\n",
        "  \r\n",
        "  datasets[datasetName] = (\r\n",
        "      X,\r\n",
        "      LabelEncoder().fit_transform(Y), # make sure all clases are integers\r\n",
        "      categorical_indicator\r\n",
        "  )\r\n"
      ],
      "execution_count": 169,
      "outputs": []
    },
    {
      "cell_type": "code",
      "metadata": {
        "id": "ZAyRvsAVKPLx",
        "outputId": "698770c0-41c3-4c03-9a25-269c7cce2e57",
        "colab": {
          "base_uri": "https://localhost:8080/"
        }
      },
      "source": [
        "datasets.keys()"
      ],
      "execution_count": 170,
      "outputs": [
        {
          "output_type": "execute_result",
          "data": {
            "text/plain": [
              "dict_keys(['MiniBooNE'])"
            ]
          },
          "metadata": {
            "tags": []
          },
          "execution_count": 170
        }
      ]
    },
    {
      "cell_type": "code",
      "metadata": {
        "id": "p7b6pFVrlyPK",
        "outputId": "efc8f7c5-3738-4a38-dcf9-7c90ee437312",
        "colab": {
          "base_uri": "https://localhost:8080/"
        }
      },
      "source": [
        "datasets['MiniBooNE'][0].shape"
      ],
      "execution_count": 171,
      "outputs": [
        {
          "output_type": "execute_result",
          "data": {
            "text/plain": [
              "(25000, 50)"
            ]
          },
          "metadata": {
            "tags": []
          },
          "execution_count": 171
        }
      ]
    },
    {
      "cell_type": "code",
      "metadata": {
        "id": "lOeNKRHjdcR8"
      },
      "source": [
        "classifiers = {\r\n",
        "    \"Linear SVC\": LinearSVC(),\r\n",
        "    \"Decision Tree\": DecisionTreeClassifier(),\r\n",
        "    \"Extra Tree\": ExtraTreeClassifier(),\r\n",
        "    \"Logistic\": LogisticRegression(),\r\n",
        "    \"Passive Aggressive\": PassiveAggressiveClassifier(),\r\n",
        "    \"Perceptron\": Perceptron(),\r\n",
        "    \"Ridge\": RidgeClassifier(),\r\n",
        "    \"SGD\": SGDClassifier(),\r\n",
        "    \"Multi-layer Perceptron\": MLPClassifier(),\r\n",
        "    \"Linear Discriminant\": LinearDiscriminantAnalysis(),\r\n",
        "    \"Quadratic Discriminant\": QuadraticDiscriminantAnalysis(),\r\n",
        "    \"BernoulliNB\": BernoulliNB(),\r\n",
        "    # don't forget to comment it when dataset contains negative values\r\n",
        "    #\"MultinomialNB\": MultinomialNB(),\r\n",
        "    \"Nearest Neighbors\": KNeighborsClassifier(),\r\n",
        "    \"Extra Trees\": ExtraTreesClassifier(),\r\n",
        "    \"Random Forest (10 estimators)\": RandomForestClassifier(n_estimators=10),\r\n",
        "    \"Gradient Boosting\": GradientBoostingClassifier()\r\n",
        "}"
      ],
      "execution_count": 172,
      "outputs": []
    },
    {
      "cell_type": "markdown",
      "metadata": {
        "id": "d5YLMIyYkxk2"
      },
      "source": [
        "### Execute experiments"
      ]
    },
    {
      "cell_type": "code",
      "metadata": {
        "id": "I4ORrJknmQBF",
        "outputId": "4f3ff39d-5aa3-47fa-d5c9-9610be253c71",
        "colab": {
          "base_uri": "https://localhost:8080/"
        }
      },
      "source": [
        "# 10-fold cross validation, take only 25k instances for training in dataset if larger\r\n",
        "FOLDS = 10\r\n",
        "\r\n",
        "results = []\r\n",
        "singleClassifiersRuntimeAcrossDifferentFolds = [{classifier: (datetime.now() - datetime.now()) for classifier in classifiers.keys()} for i in range(FOLDS)]\r\n",
        "\r\n",
        "kf = KFold(n_splits=FOLDS)\r\n",
        "for dataset in datasets.keys():\r\n",
        "  X, Y = datasets[dataset][0], datasets[dataset][1]\r\n",
        "  #X = StandardScaler().fit_transform(X)\r\n",
        "  fold_index = 0\r\n",
        "  for train_index, test_index in kf.split(X):\r\n",
        "    fold_start_time = datetime.now()\r\n",
        "    print(\">>> Fold\", fold_index)\r\n",
        "    X_train, X_test = X[train_index], X[test_index] # np.take\r\n",
        "    Y_train, Y_test = Y[train_index], Y[test_index] # np.take\r\n",
        "\r\n",
        "    # Train every classifier with the new data\r\n",
        "    trainStartTime = datetime.now()\r\n",
        "    for classifier_name, classifier in classifiers.items():\r\n",
        "      print(f\"Training {classifier_name}\", end='')\r\n",
        "      classifierStartTime = datetime.now()\r\n",
        "      classifier.fit(X_train, Y_train)\r\n",
        "      delta = datetime.now() - classifierStartTime\r\n",
        "      print(f'({datetime.now() - classifierStartTime})')\r\n",
        "      singleClassifiersRuntimeAcrossDifferentFolds[fold_index][classifier_name] = delta\r\n",
        "    print(f'Training all classifiers on data took {datetime.now() - trainStartTime}')\r\n",
        "\r\n",
        "    # Assemble ensembles of size k in {1,2,3,4,5}\r\n",
        "    for k in range(1,6):\r\n",
        "      print(\"\\t>>> k:\", k)\r\n",
        "      kStartTime = datetime.now()\r\n",
        "      for combination in list(itertools.combinations(classifiers.keys(), k)):\r\n",
        "        singleEnsembleStartTime = datetime.now()\r\n",
        "        ensemble = []\r\n",
        "        ensemble_description = \"\"\r\n",
        "\r\n",
        "        # group classifiers (already exist fitted in dict)\r\n",
        "        for idx in range(k):\r\n",
        "          ensemble.append(classifiers[combination[idx]])\r\n",
        "          ensemble_description += combination[idx]\r\n",
        "          ensemble_description += \"-\"\r\n",
        "        ensemble_description = ensemble_description[:-1]\r\n",
        "\r\n",
        "        # save predictions\r\n",
        "        predictions = np.zeros((len(X_test), k)) # (# test instances, ensemble size)\r\n",
        "        for idx, classifier in enumerate(ensemble):\r\n",
        "          predictions[:,idx] = classifier.predict(X_test)\r\n",
        "        \r\n",
        "        # do hard voting\r\n",
        "        hard_voting_predictions = np.zeros((len(X_test), 1)) # (# test instances, 1)\r\n",
        "        for idx in range(predictions.shape[0]):\r\n",
        "          values, counts = np.unique(predictions[idx], return_counts=True)\r\n",
        "          hard_voting_predictions[idx] = values[np.argmax(counts)]\r\n",
        "        \r\n",
        "        # compare voting predictions against Y_test\r\n",
        "        total_instance_number = len(X_test)\r\n",
        "        errors = 0\r\n",
        "        for idx in range(hard_voting_predictions.shape[0]):\r\n",
        "          if (hard_voting_predictions[idx][0] != Y_test[idx]):\r\n",
        "            errors += 1\r\n",
        "        score = errors/total_instance_number\r\n",
        "\r\n",
        "        # save result (ensemble description, ensemble size, fold index, dataset, score, timedelta)\r\n",
        "        results.append((ensemble_description, k, fold_index, dataset, score, datetime.now() - singleEnsembleStartTime))\r\n",
        "      print(f\"k took {datetime.now() - kStartTime}\")\r\n",
        "\r\n",
        "    fold_index += 1\r\n",
        "    print(\">>> fold took:\", datetime.now() - fold_start_time)\r\n",
        "        "
      ],
      "execution_count": null,
      "outputs": [
        {
          "output_type": "stream",
          "text": [
            ">>> Fold 0\n",
            "Training Linear SVC(0:00:08.775538)\n",
            "Training Decision Tree(0:00:02.107851)\n",
            "Training Extra Tree(0:00:00.039497)\n",
            "Training Logistic(0:00:00.376170)\n",
            "Training Passive Aggressive(0:00:00.114000)\n",
            "Training Perceptron(0:00:00.122366)\n",
            "Training Ridge(0:00:00.029578)\n",
            "Training SGD(0:00:01.006699)\n",
            "Training Multi-layer Perceptron(0:00:07.864556)\n",
            "Training Linear Discriminant(0:00:00.205964)\n",
            "Training Quadratic Discriminant(0:00:00.061995)\n",
            "Training BernoulliNB(0:00:00.028005)\n",
            "Training Nearest Neighbors(0:00:00.003239)\n",
            "Training Extra Trees(0:00:03.782470)\n",
            "Training Random Forest (10 estimators)(0:00:01.539695)\n",
            "Training Gradient Boosting(0:00:39.697093)\n",
            "Training all classifiers on data took 0:01:05.759434\n",
            "\t>>> k: 1\n",
            "k took 0:00:02.677392\n",
            "\t>>> k: 2\n",
            "k took 0:00:30.827100\n",
            "\t>>> k: 3\n",
            "k took 0:03:21.247512\n",
            "\t>>> k: 4\n",
            "k took 0:15:13.096137\n",
            "\t>>> k: 5\n",
            "k took 0:36:50.972455\n",
            ">>> fold took: 0:57:04.592288\n",
            ">>> Fold 1\n",
            "Training Linear SVC(0:00:06.108702)\n",
            "Training Decision Tree(0:00:02.035748)\n",
            "Training Extra Tree(0:00:00.038606)\n",
            "Training Logistic(0:00:00.274687)\n",
            "Training Passive Aggressive(0:00:00.116551)\n",
            "Training Perceptron(0:00:00.101966)\n",
            "Training Ridge(0:00:00.026999)\n",
            "Training SGD(0:00:00.832512)\n",
            "Training Multi-layer Perceptron(0:00:04.364972)\n",
            "Training Linear Discriminant(0:00:00.171000)\n",
            "Training Quadratic Discriminant(0:00:00.044000)\n",
            "Training BernoulliNB(0:00:00.018004)\n",
            "Training Nearest Neighbors(0:00:00.002996)\n",
            "Training Extra Trees(0:00:03.129641)\n",
            "Training Random Forest (10 estimators)(0:00:01.447266)\n",
            "Training Gradient Boosting(0:00:40.249017)\n",
            "Training all classifiers on data took 0:00:58.965664\n",
            "\t>>> k: 1\n",
            "k took 0:00:02.578496\n",
            "\t>>> k: 2\n",
            "k took 0:00:30.055067\n",
            "\t>>> k: 3\n",
            "k took 0:03:10.751328\n",
            "\t>>> k: 4\n",
            "k took 0:13:09.969821\n",
            "\t>>> k: 5\n",
            "k took 0:35:46.659163\n",
            ">>> fold took: 0:53:38.988540\n",
            ">>> Fold 2\n",
            "Training Linear SVC(0:00:06.170970)\n",
            "Training Decision Tree(0:00:01.985211)\n",
            "Training Extra Tree(0:00:00.034231)\n",
            "Training Logistic(0:00:00.307002)\n",
            "Training Passive Aggressive(0:00:00.109823)\n",
            "Training Perceptron(0:00:00.074000)\n",
            "Training Ridge(0:00:00.027997)\n",
            "Training SGD(0:00:01.107142)\n",
            "Training Multi-layer Perceptron(0:00:04.084120)\n",
            "Training Linear Discriminant(0:00:00.200992)\n",
            "Training Quadratic Discriminant(0:00:00.051000)\n",
            "Training BernoulliNB(0:00:00.025999)\n",
            "Training Nearest Neighbors(0:00:00.004997)\n",
            "Training Extra Trees(0:00:03.222086)\n",
            "Training Random Forest (10 estimators)(0:00:01.530606)\n",
            "Training Gradient Boosting(0:00:37.964353)\n",
            "Training all classifiers on data took 0:00:56.905716\n",
            "\t>>> k: 1\n",
            "k took 0:00:02.385907\n",
            "\t>>> k: 2\n",
            "k took 0:00:30.948501\n",
            "\t>>> k: 3\n",
            "k took 0:03:12.710503\n",
            "\t>>> k: 4\n",
            "k took 0:13:11.905991\n",
            "\t>>> k: 5\n",
            "k took 0:38:08.958960\n",
            ">>> fold took: 0:56:03.826583\n",
            ">>> Fold 3\n",
            "Training Linear SVC(0:00:05.266000)\n",
            "Training Decision Tree(0:00:01.772247)\n",
            "Training Extra Tree(0:00:00.031000)\n",
            "Training Logistic(0:00:00.262009)\n",
            "Training Passive Aggressive(0:00:00.078993)\n",
            "Training Perceptron(0:00:00.039003)\n",
            "Training Ridge(0:00:00.022997)\n",
            "Training SGD(0:00:00.754000)\n",
            "Training Multi-layer Perceptron(0:00:05.711998)\n",
            "Training Linear Discriminant(0:00:00.169001)\n",
            "Training Quadratic Discriminant(0:00:00.043003)\n",
            "Training BernoulliNB(0:00:00.018003)\n",
            "Training Nearest Neighbors(0:00:00.002995)\n",
            "Training Extra Trees(0:00:02.774999)\n",
            "Training Random Forest (10 estimators)(0:00:01.323038)\n",
            "Training Gradient Boosting(0:00:32.957339)\n",
            "Training all classifiers on data took 0:00:51.229624\n",
            "\t>>> k: 1\n",
            "k took 0:00:02.213028\n",
            "\t>>> k: 2\n",
            "k took 0:00:27.635574\n",
            "\t>>> k: 3\n"
          ],
          "name": "stdout"
        }
      ]
    },
    {
      "cell_type": "markdown",
      "metadata": {
        "id": "ju1w2RGxk1lc"
      },
      "source": [
        "## Analysing results"
      ]
    },
    {
      "cell_type": "markdown",
      "metadata": {
        "id": "scSXWuWTlEVx"
      },
      "source": [
        "### Utility functions"
      ]
    },
    {
      "cell_type": "code",
      "metadata": {
        "id": "4vVQX6L1lKVd"
      },
      "source": [
        "def saveResultsAsCsv(filename, headers, rows):\r\n",
        "  if len(headers) == len(rows[0]):\r\n",
        "    with open(filename,'w') as file:\r\n",
        "      file.write(','.join(headers))\r\n",
        "      file.write('\\n')\r\n",
        "      for row in rows:\r\n",
        "        file.write(','.join(list(map(lambda rc: str(rc), row))))\r\n",
        "        file.write('\\n')\r\n",
        "  else:\r\n",
        "    raise Exception('length of headers does not match length of single rows.')\r\n",
        "\r\n",
        "def filterResultsByDataset(datasetName, results):\r\n",
        "  return list(filter(lambda res: str(res[2]) == datasetName, results))\r\n",
        "\r\n",
        "def loadResultsFromCsv(filename):\r\n",
        "  loadedResults = []\r\n",
        "  with open(filename) as file:\r\n",
        "    loadedResults = list(map(lambda entry: entry.split(','), [x.strip() for x in file.readlines()]))\r\n",
        "  file.close()\r\n",
        "  print('Headers are:', loadedResults[0])\r\n",
        "  del loadedResults[0]\r\n",
        "  return loadedResults\r\n"
      ],
      "execution_count": 111,
      "outputs": []
    },
    {
      "cell_type": "markdown",
      "metadata": {
        "id": "pFYgGR4blnTo"
      },
      "source": [
        "### Aggregate data"
      ]
    },
    {
      "cell_type": "code",
      "metadata": {
        "id": "D5gaTRHclGZo"
      },
      "source": [
        "results = list(map(lambda entry: (entry[0], entry[1], entry[2], entry[3], entry[4], entry[5].total_seconds()*1000), results))"
      ],
      "execution_count": 151,
      "outputs": []
    },
    {
      "cell_type": "code",
      "metadata": {
        "id": "93_jB0a7nEKs"
      },
      "source": [
        "resultsDf = pd.DataFrame(results, columns=['ensembleDescription', 'ensembleSize', 'foldIndex', 'dataset', 'errorRate', 'timeTaken'])"
      ],
      "execution_count": 152,
      "outputs": []
    },
    {
      "cell_type": "code",
      "metadata": {
        "id": "MxjQN8YbnFMb"
      },
      "source": [
        "finalResults = []\r\n",
        "\r\n",
        "# (ensemble description, ensemble size, fold index, dataset, score, timedelta)\r\n",
        "for ensemble_description, matchingResults in resultsDf.groupby(['ensembleDescription']):\r\n",
        "  matchingIterable = matchingResults.values\r\n",
        "  meanError = 0\r\n",
        "  meanTimeTaken = 0\r\n",
        "  for row in matchingIterable:\r\n",
        "    meanError += float(row[4])\r\n",
        "    meanTimeTaken += float(row[5])\r\n",
        "  meanError /= 10\r\n",
        "  meanTimeTaken /= 10\r\n",
        "  # (ensemble_description, ensemble_size, dataset, mean_error, time_taken)\r\n",
        "  finalResults.append((\r\n",
        "      ensemble_description, # matchingIterable[0][0]\r\n",
        "      matchingIterable[0][1], \r\n",
        "      matchingIterable[0][3], \r\n",
        "      meanError, \r\n",
        "      meanTimeTaken\r\n",
        "  ))"
      ],
      "execution_count": 153,
      "outputs": []
    },
    {
      "cell_type": "code",
      "metadata": {
        "id": "T9QYgGRnPfgT"
      },
      "source": [
        "finalResults = loadResultsFromCsv('finalResults.csv')"
      ],
      "execution_count": null,
      "outputs": []
    },
    {
      "cell_type": "markdown",
      "metadata": {
        "id": "TSMHbcE-rJRd"
      },
      "source": [
        "### Save results"
      ]
    },
    {
      "cell_type": "code",
      "metadata": {
        "id": "2rikxkjMrOFX"
      },
      "source": [
        "saveResultsAsCsv('finalResultsCreditG.csv', ['ensembleDescription', 'k', 'dataset', 'errorRate', 'timeTaken'], finalResults)"
      ],
      "execution_count": 154,
      "outputs": []
    },
    {
      "cell_type": "markdown",
      "metadata": {
        "id": "wdnGpkoRT2tG"
      },
      "source": [
        "### Load results"
      ]
    },
    {
      "cell_type": "code",
      "metadata": {
        "id": "BA_J9oNNT4qH",
        "colab": {
          "base_uri": "https://localhost:8080/"
        },
        "outputId": "b4d67253-17c7-4edf-a313-4c0919053a44"
      },
      "source": [
        "finalResults = loadResultsFromCsv('finalResultsCreditG.csv')\r\n",
        "resultsDf = pd.read_csv('finalResultsCreditG.csv')"
      ],
      "execution_count": 155,
      "outputs": [
        {
          "output_type": "stream",
          "text": [
            "Headers are: ['ensembleDescription', 'k', 'dataset', 'errorRate', 'timeTaken']\n"
          ],
          "name": "stdout"
        }
      ]
    },
    {
      "cell_type": "markdown",
      "metadata": {
        "id": "6nL_M4UJqSog"
      },
      "source": [
        "### Metrics"
      ]
    },
    {
      "cell_type": "markdown",
      "metadata": {
        "id": "17hLSwlgqcQw"
      },
      "source": [
        "#### Error rates for different sizes of k"
      ]
    },
    {
      "cell_type": "code",
      "metadata": {
        "id": "nVysIdAcpB-Y",
        "colab": {
          "base_uri": "https://localhost:8080/",
          "height": 281
        },
        "outputId": "1add5319-8860-428b-fbba-b11ea01760be"
      },
      "source": [
        "for dataset, matchingResults in resultsDf.groupby(['dataset']): \r\n",
        "  boxplots = []\r\n",
        "  for k, matchingKs in matchingResults.groupby(['k']):\r\n",
        "    boxplots.append(matchingKs['errorRate'].values)\r\n",
        "  fig, ax = plt.subplots()\r\n",
        "  ax.boxplot(boxplots)\r\n",
        "  ax.set_title(dataset)\r\n",
        "  plt.show()  "
      ],
      "execution_count": 156,
      "outputs": [
        {
          "output_type": "display_data",
          "data": {
            "text/plain": [
              "<Figure size 432x288 with 1 Axes>"
            ],
            "image/png": "[encoded data removed]"
          },
          "metadata": {
            "tags": [],
            "needs_background": "light"
          }
        }
      ]
    },
    {
      "cell_type": "markdown",
      "metadata": {
        "id": "_54zvHabpJp0"
      },
      "source": [
        "#### Best single learners for every dataset"
      ]
    },
    {
      "cell_type": "code",
      "metadata": {
        "id": "1vTSoKttpN1r",
        "colab": {
          "base_uri": "https://localhost:8080/"
        },
        "outputId": "f175eec0-a2b1-40c9-e242-3eca16d6c255"
      },
      "source": [
        "bestSingleLearners = {} # dataset: (ensembleDescription, errorRate)\r\n",
        "\r\n",
        "for dataset, matchingResults in resultsDf.groupby(['dataset']): \r\n",
        "  matchingK1s = matchingResults.loc[resultsDf['k'] == 1]\r\n",
        "  minIndex = matchingK1s['errorRate'].idxmin()\r\n",
        "  minRow = resultsDf.iloc[minIndex]\r\n",
        "  bestSingleLearners[dataset] = (minRow['ensembleDescription'], minRow['errorRate'])\r\n",
        "\r\n",
        "bestSingleLearners"
      ],
      "execution_count": 157,
      "outputs": [
        {
          "output_type": "execute_result",
          "data": {
            "text/plain": [
              "{'credit-g': ('Gradient Boosting', 0.239)}"
            ]
          },
          "metadata": {
            "tags": []
          },
          "execution_count": 157
        }
      ]
    },
    {
      "cell_type": "markdown",
      "metadata": {
        "id": "--KHaeYhq5lm"
      },
      "source": [
        "#### For every $k \\in \\{2,3,4,5\\}$, how many ensembles do improve over the single best learner by at least $0.005$ (absolute and relative counts of improvement)"
      ]
    },
    {
      "cell_type": "code",
      "metadata": {
        "id": "pm-tsV5_lMwV",
        "outputId": "db914fb2-10b4-4076-dbb2-e53a533324e5",
        "colab": {
          "base_uri": "https://localhost:8080/",
          "height": 576
        }
      },
      "source": [
        "resultsDf[resultsDf['k'] == 1]"
      ],
      "execution_count": 158,
      "outputs": [
        {
          "output_type": "execute_result",
          "data": {
            "text/plain": [
              "                ensembleDescription  k   dataset  errorRate  timeTaken\n",
              "0                       BernoulliNB  1  credit-g      0.272     4.1239\n",
              "31                    Decision Tree  1  credit-g      0.339     2.7009\n",
              "1972                     Extra Tree  1  credit-g      0.330     3.1923\n",
              "3443                    Extra Trees  1  credit-g      0.245    17.7958\n",
              "3447              Gradient Boosting  1  credit-g      0.239     4.1270\n",
              "3448            Linear Discriminant  1  credit-g      0.249     3.6987\n",
              "3547                     Linear SVC  1  credit-g      0.404     4.6248\n",
              "6064                       Logistic  1  credit-g      0.259     2.7011\n",
              "7157         Multi-layer Perceptron  1  credit-g      0.375     3.8881\n",
              "7320                  MultinomialNB  1  credit-g      0.365     3.3374\n",
              "7336              Nearest Neighbors  1  credit-g      0.338     9.8144\n",
              "7344             Passive Aggressive  1  credit-g      0.409     2.8051\n",
              "8138                     Perceptron  1  credit-g      0.379     2.9170\n",
              "8700         Quadratic Discriminant  1  credit-g      0.318     3.8138\n",
              "8757  Random Forest (10 estimators)  1  credit-g      0.257     5.4397\n",
              "8759                          Ridge  1  credit-g      0.255     3.1886\n",
              "9145                            SGD  1  credit-g      0.541     3.4006"
            ],
            "text/html": [
              "<div>\n",
              "<style scoped>\n",
              "    .dataframe tbody tr th:only-of-type {\n",
              "        vertical-align: middle;\n",
              "    }\n",
              "\n",
              "    .dataframe tbody tr th {\n",
              "        vertical-align: top;\n",
              "    }\n",
              "\n",
              "    .dataframe thead th {\n",
              "        text-align: right;\n",
              "    }\n",
              "</style>\n",
              "<table border=\"1\" class=\"dataframe\">\n",
              "  <thead>\n",
              "    <tr style=\"text-align: right;\">\n",
              "      <th></th>\n",
              "      <th>ensembleDescription</th>\n",
              "      <th>k</th>\n",
              "      <th>dataset</th>\n",
              "      <th>errorRate</th>\n",
              "      <th>timeTaken</th>\n",
              "    </tr>\n",
              "  </thead>\n",
              "  <tbody>\n",
              "    <tr>\n",
              "      <th>0</th>\n",
              "      <td>BernoulliNB</td>\n",
              "      <td>1</td>\n",
              "      <td>credit-g</td>\n",
              "      <td>0.272</td>\n",
              "      <td>4.1239</td>\n",
              "    </tr>\n",
              "    <tr>\n",
              "      <th>31</th>\n",
              "      <td>Decision Tree</td>\n",
              "      <td>1</td>\n",
              "      <td>credit-g</td>\n",
              "      <td>0.339</td>\n",
              "      <td>2.7009</td>\n",
              "    </tr>\n",
              "    <tr>\n",
              "      <th>1972</th>\n",
              "      <td>Extra Tree</td>\n",
              "      <td>1</td>\n",
              "      <td>credit-g</td>\n",
              "      <td>0.330</td>\n",
              "      <td>3.1923</td>\n",
              "    </tr>\n",
              "    <tr>\n",
              "      <th>3443</th>\n",
              "      <td>Extra Trees</td>\n",
              "      <td>1</td>\n",
              "      <td>credit-g</td>\n",
              "      <td>0.245</td>\n",
              "      <td>17.7958</td>\n",
              "    </tr>\n",
              "    <tr>\n",
              "      <th>3447</th>\n",
              "      <td>Gradient Boosting</td>\n",
              "      <td>1</td>\n",
              "      <td>credit-g</td>\n",
              "      <td>0.239</td>\n",
              "      <td>4.1270</td>\n",
              "    </tr>\n",
              "    <tr>\n",
              "      <th>3448</th>\n",
              "      <td>Linear Discriminant</td>\n",
              "      <td>1</td>\n",
              "      <td>credit-g</td>\n",
              "      <td>0.249</td>\n",
              "      <td>3.6987</td>\n",
              "    </tr>\n",
              "    <tr>\n",
              "      <th>3547</th>\n",
              "      <td>Linear SVC</td>\n",
              "      <td>1</td>\n",
              "      <td>credit-g</td>\n",
              "      <td>0.404</td>\n",
              "      <td>4.6248</td>\n",
              "    </tr>\n",
              "    <tr>\n",
              "      <th>6064</th>\n",
              "      <td>Logistic</td>\n",
              "      <td>1</td>\n",
              "      <td>credit-g</td>\n",
              "      <td>0.259</td>\n",
              "      <td>2.7011</td>\n",
              "    </tr>\n",
              "    <tr>\n",
              "      <th>7157</th>\n",
              "      <td>Multi-layer Perceptron</td>\n",
              "      <td>1</td>\n",
              "      <td>credit-g</td>\n",
              "      <td>0.375</td>\n",
              "      <td>3.8881</td>\n",
              "    </tr>\n",
              "    <tr>\n",
              "      <th>7320</th>\n",
              "      <td>MultinomialNB</td>\n",
              "      <td>1</td>\n",
              "      <td>credit-g</td>\n",
              "      <td>0.365</td>\n",
              "      <td>3.3374</td>\n",
              "    </tr>\n",
              "    <tr>\n",
              "      <th>7336</th>\n",
              "      <td>Nearest Neighbors</td>\n",
              "      <td>1</td>\n",
              "      <td>credit-g</td>\n",
              "      <td>0.338</td>\n",
              "      <td>9.8144</td>\n",
              "    </tr>\n",
              "    <tr>\n",
              "      <th>7344</th>\n",
              "      <td>Passive Aggressive</td>\n",
              "      <td>1</td>\n",
              "      <td>credit-g</td>\n",
              "      <td>0.409</td>\n",
              "      <td>2.8051</td>\n",
              "    </tr>\n",
              "    <tr>\n",
              "      <th>8138</th>\n",
              "      <td>Perceptron</td>\n",
              "      <td>1</td>\n",
              "      <td>credit-g</td>\n",
              "      <td>0.379</td>\n",
              "      <td>2.9170</td>\n",
              "    </tr>\n",
              "    <tr>\n",
              "      <th>8700</th>\n",
              "      <td>Quadratic Discriminant</td>\n",
              "      <td>1</td>\n",
              "      <td>credit-g</td>\n",
              "      <td>0.318</td>\n",
              "      <td>3.8138</td>\n",
              "    </tr>\n",
              "    <tr>\n",
              "      <th>8757</th>\n",
              "      <td>Random Forest (10 estimators)</td>\n",
              "      <td>1</td>\n",
              "      <td>credit-g</td>\n",
              "      <td>0.257</td>\n",
              "      <td>5.4397</td>\n",
              "    </tr>\n",
              "    <tr>\n",
              "      <th>8759</th>\n",
              "      <td>Ridge</td>\n",
              "      <td>1</td>\n",
              "      <td>credit-g</td>\n",
              "      <td>0.255</td>\n",
              "      <td>3.1886</td>\n",
              "    </tr>\n",
              "    <tr>\n",
              "      <th>9145</th>\n",
              "      <td>SGD</td>\n",
              "      <td>1</td>\n",
              "      <td>credit-g</td>\n",
              "      <td>0.541</td>\n",
              "      <td>3.4006</td>\n",
              "    </tr>\n",
              "  </tbody>\n",
              "</table>\n",
              "</div>"
            ]
          },
          "metadata": {
            "tags": []
          },
          "execution_count": 158
        }
      ]
    },
    {
      "cell_type": "code",
      "metadata": {
        "id": "sXxF7SdyvCHd"
      },
      "source": [
        "improvementMargin = 0.01\r\n",
        "\r\n",
        "improvementEnsembles = {dataset: [] for dataset in bestSingleLearners.keys()} # dataset: (ensembleDescription, errorRate, k)\r\n",
        "\r\n",
        "for dataset, matchingResults in resultsDf.groupby(['dataset']): \r\n",
        "  for k, matchingKs in matchingResults.groupby(['k']):\r\n",
        "    if k != 1: # ...\r\n",
        "      for i, row in matchingKs.iterrows():\r\n",
        "        if (row['errorRate'] + improvementMargin) < bestSingleLearners[dataset][1]:\r\n",
        "          improvementEnsembles[dataset].append((row['ensembleDescription'], row['errorRate'], k))"
      ],
      "execution_count": 159,
      "outputs": []
    },
    {
      "cell_type": "code",
      "metadata": {
        "id": "AhWhd6OyygLb",
        "colab": {
          "base_uri": "https://localhost:8080/"
        },
        "outputId": "c71e981f-315d-4a80-bdb4-a1972fea38e9"
      },
      "source": [
        "for dataset in improvementEnsembles.keys():\r\n",
        "  print(f\"\\n{dataset}'s best single learner had an error rate of: {bestSingleLearners[dataset][1]}\")\r\n",
        "  nImproved = len(improvementEnsembles[dataset])\r\n",
        "  print(f\"\\t{nImproved} ({round(nImproved/resultsDf[(resultsDf['dataset'] == dataset) & (resultsDf['k'] != 1)]['dataset'].count()*100, 2)}%) ensembles improved by at least {improvementMargin} ({improvementMargin*100}%)\")\r\n",
        "  for k in range(2, 6):\r\n",
        "    matchingImprovementEnsemblesWithK = list(filter(lambda entry: entry[2] == k, improvementEnsembles[dataset]))\r\n",
        "    print(f\"\\t\\t{len(matchingImprovementEnsemblesWithK)} with k={k} - mean error rate: {np.mean(list(map(lambda tup: tup[1], matchingImprovementEnsemblesWithK)))}\")"
      ],
      "execution_count": 160,
      "outputs": [
        {
          "output_type": "stream",
          "text": [
            "\n",
            "credit-g's best single learner had an error rate of: 0.239\n",
            "\t62 (0.66%) ensembles improved by at least 0.01 (1.0%)\n",
            "\t\t0 with k=2 - mean error rate: nan\n",
            "\t\t3 with k=3 - mean error rate: 0.22433333333333336\n",
            "\t\t3 with k=4 - mean error rate: 0.22566666666666665\n",
            "\t\t56 with k=5 - mean error rate: 0.2258214285714286\n"
          ],
          "name": "stdout"
        },
        {
          "output_type": "stream",
          "text": [
            "C:\\Users\\aceve\\miniconda3\\lib\\site-packages\\numpy\\core\\_methods.py:170: RuntimeWarning: invalid value encountered in double_scalars\n",
            "  ret = ret.dtype.type(ret / rcount)\n"
          ],
          "name": "stderr"
        }
      ]
    },
    {
      "cell_type": "markdown",
      "metadata": {
        "id": "akz8ZeAD3TeB"
      },
      "source": [
        "#### For each base learner understand in how many improving ensembles it is contained (absolute and relative numbers)"
      ]
    },
    {
      "cell_type": "code",
      "metadata": {
        "id": "Ix4Xqxme34Ym",
        "colab": {
          "base_uri": "https://localhost:8080/"
        },
        "outputId": "ec30929b-ef3e-40f4-bd0a-ded77735996b"
      },
      "source": [
        "for dataset in datasets.keys():\r\n",
        "  print(f'Dataset: {dataset}')\r\n",
        "  improvers = [] # classifier, timesAppearedInImprovements, timesAppearedInImprovementsRelative\r\n",
        "  for classifier in classifiers.keys():\r\n",
        "    timesAppearedInImprovements = 0\r\n",
        "    for row in improvementEnsembles[dataset]:\r\n",
        "      if classifier in row[0]:\r\n",
        "        timesAppearedInImprovements += 1\r\n",
        "    if len(improvementEnsembles[dataset]) != 0:\r\n",
        "      improvers.append((classifier, timesAppearedInImprovements, timesAppearedInImprovements/len(improvementEnsembles[dataset])))\r\n",
        "    else:\r\n",
        "      improvers.append((classifier, 0, 0))\r\n",
        "\r\n",
        "  for entry in sorted(improvers, key=lambda tup: tup[1], reverse=True):\r\n",
        "    print(f\"\\t{entry[0]}: {entry[1]} ({entry[2]*100}%)\")\r\n",
        "  print()"
      ],
      "execution_count": 161,
      "outputs": [
        {
          "output_type": "stream",
          "text": [
            "Dataset: credit-g\n",
            "\tGradient Boosting: 52 (83.87096774193549%)\n",
            "\tExtra Tree: 48 (77.41935483870968%)\n",
            "\tRandom Forest (10 estimators): 47 (75.80645161290323%)\n",
            "\tExtra Trees: 41 (66.12903225806451%)\n",
            "\tPerceptron: 37 (59.67741935483871%)\n",
            "\tMulti-layer Perceptron: 34 (54.83870967741935%)\n",
            "\tLinear Discriminant: 24 (38.70967741935484%)\n",
            "\tLinear SVC: 21 (33.87096774193548%)\n",
            "\tBernoulliNB: 15 (24.193548387096776%)\n",
            "\tQuadratic Discriminant: 12 (19.35483870967742%)\n",
            "\tRidge: 10 (16.129032258064516%)\n",
            "\tNearest Neighbors: 7 (11.29032258064516%)\n",
            "\tLogistic: 6 (9.67741935483871%)\n",
            "\tDecision Tree: 5 (8.064516129032258%)\n",
            "\tPassive Aggressive: 2 (3.225806451612903%)\n",
            "\tSGD: 0 (0.0%)\n",
            "\tMultinomialNB: 0 (0.0%)\n",
            "\n"
          ],
          "name": "stdout"
        }
      ]
    }
  ]
}