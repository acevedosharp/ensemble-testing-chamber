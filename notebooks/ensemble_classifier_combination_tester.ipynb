{
  "nbformat": 4,
  "nbformat_minor": 0,
  "metadata": {
    "colab": {
      "name": "ensemble-classifier-combination-tester.ipynb",
      "provenance": [],
      "authorship_tag": "ABX9TyMTz/JLBcRfaP0ai5r/rF3S",
      "include_colab_link": true
    },
    "kernelspec": {
      "name": "python3",
      "display_name": "Python 3"
    }
  },
  "cells": [
    {
      "cell_type": "markdown",
      "metadata": {
        "id": "view-in-github",
        "colab_type": "text"
      },
      "source": [
        "<a href=\"https://colab.research.google.com/github/acevedosharp/ensemble-testing-chamber/blob/master/notebooks/ensemble_classifier_combination_tester.ipynb\" target=\"_parent\"><img src=\"https://colab.research.google.com/assets/colab-badge.svg\" alt=\"Open In Colab\"/></a>"
      ]
    },
    {
      "cell_type": "markdown",
      "metadata": {
        "id": "S5POcuMGvFbr"
      },
      "source": [
        "# Measuring the effectiveness of ensembles"
      ]
    },
    {
      "cell_type": "markdown",
      "metadata": {
        "id": "3VVkWfGqHHs6"
      },
      "source": [
        "- assemble all possible combination of ensembles $k \\in \\{1,2,3,4,5\\}$\r\n",
        "- 10-fold cross validation\r\n"
      ]
    },
    {
      "cell_type": "markdown",
      "metadata": {
        "id": "LCu4pVZQvAQq"
      },
      "source": [
        "## Experimental setup"
      ]
    },
    {
      "cell_type": "code",
      "metadata": {
        "id": "eOTCnQy8CnV0"
      },
      "source": [
        "import itertools\r\n",
        "import numpy as np\r\n",
        "import sklearn\r\n",
        "from sklearn.model_selection import KFold\r\n",
        "from sklearn.model_selection import train_test_split\r\n",
        "from sklearn.preprocessing import StandardScaler\r\n",
        "\r\n",
        "# classifiers\r\n",
        "from sklearn.svm import LinearSVC\r\n",
        "from sklearn.tree import DecisionTreeClassifier\r\n",
        "from sklearn.tree import ExtraTreeClassifier\r\n",
        "from sklearn.linear_model import LogisticRegression\r\n",
        "from sklearn.linear_model import PassiveAggressiveClassifier\r\n",
        "from sklearn.linear_model import Perceptron\r\n",
        "from sklearn.linear_model import RidgeClassifier\r\n",
        "from sklearn.linear_model import SGDClassifier\r\n",
        "from sklearn.neural_network import MLPClassifier\r\n",
        "from sklearn.discriminant_analysis import LinearDiscriminantAnalysis\r\n",
        "from sklearn.discriminant_analysis import QuadraticDiscriminantAnalysis\r\n",
        "from sklearn.naive_bayes import BernoulliNB\r\n",
        "from sklearn.naive_bayes import MultinomialNB\r\n",
        "from sklearn.neighbors import KNeighborsClassifier\r\n",
        "from sklearn.ensemble import ExtraTreesClassifier\r\n",
        "from sklearn.ensemble import RandomForestClassifier\r\n",
        "from sklearn.ensemble import GradientBoostingClassifier\r\n",
        "\r\n",
        "# datasets\r\n",
        "from sklearn.datasets import *\r\n",
        "\r\n",
        "from datetime import datetime"
      ],
      "execution_count": 2,
      "outputs": []
    },
    {
      "cell_type": "code",
      "metadata": {
        "id": "lOeNKRHjdcR8"
      },
      "source": [
        "# Running the experiments with the 4 datasets at the same time might take longer than 1.5h (bad for Colab) so we can run both separately and join them later\r\n",
        "ds_names = [\r\n",
        "            \"Breast Cancer\",\r\n",
        "            \"Digits\",\r\n",
        "            \"Wine\"\r\n",
        "]\r\n",
        "\r\n",
        "datasets = [\r\n",
        "            sklearn.datasets.load_breast_cancer(return_X_y=True),\r\n",
        "            sklearn.datasets.load_digits(return_X_y=True),\r\n",
        "            sklearn.datasets.load_wine(return_X_y=True)\r\n",
        "]"
      ],
      "execution_count": 6,
      "outputs": []
    },
    {
      "cell_type": "markdown",
      "metadata": {
        "id": "d5YLMIyYkxk2"
      },
      "source": [
        "### Execute experiments"
      ]
    },
    {
      "cell_type": "code",
      "metadata": {
        "id": "fT1nJ8o-1urN"
      },
      "source": [
        "classifiers = {\r\n",
        "    \"Linear SVC\": LinearSVC(),\r\n",
        "    \"Decission Tree\": DecisionTreeClassifier(),\r\n",
        "    \"Extra Tree\": ExtraTreeClassifier(),\r\n",
        "    \"Logistic\": LogisticRegression(),\r\n",
        "    \"Passive Aggressive\": PassiveAggressiveClassifier(),\r\n",
        "    \"Perceptron\": Perceptron(),\r\n",
        "    \"Ridge\": RidgeClassifier(),\r\n",
        "    \"SGD\": SGDClassifier(),\r\n",
        "    \"Multi-layer Perceptron\": MLPClassifier(),\r\n",
        "    \"Linear Discriminant\": LinearDiscriminantAnalysis(),\r\n",
        "    \"Quadratic Discriminant\": QuadraticDiscriminantAnalysis(),\r\n",
        "    \"BernoulliNB\": BernoulliNB(),\r\n",
        "    \"MultinomialNB\": MultinomialNB(),\r\n",
        "    \"Nearest Neighbors\": KNeighborsClassifier(),\r\n",
        "    \"Extra Trees\": ExtraTreesClassifier(),\r\n",
        "    \"Random Forest (10 estimators)\": RandomForestClassifier(n_estimators=10),\r\n",
        "    \"Gradient Boosting\": GradientBoostingClassifier()\r\n",
        "}"
      ],
      "execution_count": 10,
      "outputs": []
    },
    {
      "cell_type": "code",
      "metadata": {
        "id": "I4ORrJknmQBF"
      },
      "source": [
        "results = []\r\n",
        "\r\n",
        "kf = KFold(n_splits=10)\r\n",
        "for ds_idx, ds in enumerate(datasets):\r\n",
        "  X, Y = ds[0], ds[1]\r\n",
        "  #X = StandardScaler().fit_transform(X)\r\n",
        "  fold_index = 0\r\n",
        "  for train_index, test_index in kf.split(X):\r\n",
        "    X_train, X_test = X[train_index], X[test_index] # np.take\r\n",
        "    Y_train, Y_test = Y[train_index], Y[test_index] # np.take\r\n",
        "\r\n",
        "    # Train every classifier with the new data\r\n",
        "    for classifier_name, classifier in classifiers.items():\r\n",
        "      classifier.fit(X_train, Y_train)\r\n",
        "    # Assemble ensembles of size k in {1,2,3,4,5}\r\n",
        "    for k in range(1,6):\r\n",
        "      for combination in list(itertools.combinations(classifiers.keys(), k)):\r\n",
        "        ensemble = []\r\n",
        "        ensemble_description = \"\"\r\n",
        "\r\n",
        "        # group classifiers (already exist fitted in dict)\r\n",
        "        for idx in range(k):\r\n",
        "          ensemble.append(classifiers[combination[idx]])\r\n",
        "          ensemble_description += combination[idx]\r\n",
        "          ensemble_description += \"-\"\r\n",
        "        ensemble_description = ensemble_description[:-1]\r\n",
        "\r\n",
        "        # save predictions\r\n",
        "        predictions = np.zeros((len(X_test), k)) # (# test instances, ensemble size)\r\n",
        "        for idx, classifier in enumerate(ensemble):\r\n",
        "          predictions[:,idx] = classifier.predict(X_test)\r\n",
        "        \r\n",
        "        # do hard voting\r\n",
        "        hard_voting_predictions = np.zeros((len(X_test), 1)) # (# test instances, 1)\r\n",
        "        for idx in range(predictions.shape[0]):\r\n",
        "          values, counts = np.unique(predictions[idx], return_counts=True)\r\n",
        "          hard_voting_predictions[idx] = values[np.argmax(counts)]\r\n",
        "        \r\n",
        "        # compare voting predictions against Y_test\r\n",
        "        total_instance_number = len(X_test)\r\n",
        "        errors = 0\r\n",
        "        for idx in range(hard_voting_predictions.shape[0]):\r\n",
        "          if (hard_voting_predictions[idx][0] != Y_test[idx]):\r\n",
        "            errors += 1\r\n",
        "        score = errors/total_instance_number\r\n",
        "\r\n",
        "        # save result (ensemble description, ensemble size, fold index, dataset, score)\r\n",
        "        results.append([ensemble_description, k, fold_index, ds_names[ds_idx], score])\r\n",
        "\r\n",
        "    fold_index += 1\r\n",
        "        "
      ],
      "execution_count": null,
      "outputs": []
    },
    {
      "cell_type": "markdown",
      "metadata": {
        "id": "ju1w2RGxk1lc"
      },
      "source": [
        "## Analysing results"
      ]
    },
    {
      "cell_type": "markdown",
      "metadata": {
        "id": "scSXWuWTlEVx"
      },
      "source": [
        "### Utility functions"
      ]
    },
    {
      "cell_type": "code",
      "metadata": {
        "id": "4vVQX6L1lKVd"
      },
      "source": [
        "def saveResultsAsCsv(filename, headers, rows):\r\n",
        "  if len(headers) == len(rows[0]):\r\n",
        "    with open(filename,'w') as file:\r\n",
        "      file.write(','.join(headers))\r\n",
        "      file.write('\\n')\r\n",
        "      for row in rows:\r\n",
        "        file.write(','.join(list(map(lambda rc: str(rc), row))))\r\n",
        "        file.write('\\n')\r\n",
        "  else:\r\n",
        "    raise Exception('length of headers does not match length of single rows.')\r\n",
        "\r\n",
        "def filterResultsByDataset(datasetName, results):\r\n",
        "  return list(filter(lambda res: str(res[2]) == datasetName, results))\r\n",
        "\r\n",
        "def loadResultsFromCsv(filename):\r\n",
        "  loadedResults = []\r\n",
        "  with open(filename) as file:\r\n",
        "    loadedResults = list(map(lambda entry: entry.split(','), [x.strip() for x in file.readlines()]))\r\n",
        "  file.close()\r\n",
        "  print('Headers are:', loadedResults[0])\r\n",
        "  del loadedResults[0]\r\n",
        "  return loadedResults\r\n"
      ],
      "execution_count": 3,
      "outputs": []
    },
    {
      "cell_type": "markdown",
      "metadata": {
        "id": "pFYgGR4blnTo"
      },
      "source": [
        "### Aggregate data"
      ]
    },
    {
      "cell_type": "code",
      "metadata": {
        "id": "VBZs0JFQbbft"
      },
      "source": [
        "uniqueEnsembles = []\r\n",
        "finalResults = []\r\n",
        "\r\n",
        "for ensemble in list(map(lambda res: res[0], results)):\r\n",
        "  if ensemble not in uniqueEnsembles:\r\n",
        "    uniqueEnsembles.append(ensemble)\r\n",
        "\r\n",
        "for i, ensemble_description in enumerate(uniqueEnsembles):\r\n",
        "  filtered = list(filter(lambda res: str(res[0]) == ensemble_description, results))\r\n",
        "  sum = 0\r\n",
        "  for entry in filtered:\r\n",
        "    sum += float(entry[4])\r\n",
        "  mean_error = sum / 10\r\n",
        "  final_results.append([filtered[0][0], filtered[0][1], filtered[0][3], mean_error]) # [ensemble_description, ensemble_size, dataset, mean_error]\r\n"
      ],
      "execution_count": null,
      "outputs": []
    },
    {
      "cell_type": "markdown",
      "metadata": {
        "id": "TSMHbcE-rJRd"
      },
      "source": [
        "### Save results"
      ]
    },
    {
      "cell_type": "code",
      "metadata": {
        "id": "2rikxkjMrOFX"
      },
      "source": [
        "saveResultsAsCsv('finalResults.csv', ['ensembleDescription', 'k', 'dataset', 'errorRate'], finalResults)"
      ],
      "execution_count": null,
      "outputs": []
    },
    {
      "cell_type": "markdown",
      "metadata": {
        "id": "wdnGpkoRT2tG"
      },
      "source": [
        "### Load results"
      ]
    },
    {
      "cell_type": "code",
      "metadata": {
        "id": "BA_J9oNNT4qH",
        "outputId": "75cc4b95-63e6-4896-f676-4d6718c18245",
        "colab": {
          "base_uri": "https://localhost:8080/"
        }
      },
      "source": [
        "finalResults = loadResultsFromCsv('finalResults.csv')"
      ],
      "execution_count": 13,
      "outputs": [
        {
          "output_type": "stream",
          "text": [
            "Headers are: ['ensembleDescription', 'k', 'dataset', 'errorRate']\n"
          ],
          "name": "stdout"
        }
      ]
    },
    {
      "cell_type": "code",
      "metadata": {
        "id": "IwC4K7B-2n9N"
      },
      "source": [
        "import pandas as pd"
      ],
      "execution_count": 15,
      "outputs": []
    },
    {
      "cell_type": "code",
      "metadata": {
        "id": "9kCEMKoh28S-"
      },
      "source": [
        "df = pd.read_csv('finalResults.csv')"
      ],
      "execution_count": 16,
      "outputs": []
    },
    {
      "cell_type": "code",
      "metadata": {
        "id": "A97mmKfg44xR"
      },
      "source": [
        "import matplotlib.pyplot as plt"
      ],
      "execution_count": 23,
      "outputs": []
    },
    {
      "cell_type": "code",
      "metadata": {
        "id": "cbNNh8eA4tNX",
        "outputId": "41cb4786-be72-48ac-d908-397084a4141c",
        "colab": {
          "base_uri": "https://localhost:8080/",
          "height": 419
        }
      },
      "source": [
        "df"
      ],
      "execution_count": 19,
      "outputs": [
        {
          "output_type": "execute_result",
          "data": {
            "text/html": [
              "<div>\n",
              "<style scoped>\n",
              "    .dataframe tbody tr th:only-of-type {\n",
              "        vertical-align: middle;\n",
              "    }\n",
              "\n",
              "    .dataframe tbody tr th {\n",
              "        vertical-align: top;\n",
              "    }\n",
              "\n",
              "    .dataframe thead th {\n",
              "        text-align: right;\n",
              "    }\n",
              "</style>\n",
              "<table border=\"1\" class=\"dataframe\">\n",
              "  <thead>\n",
              "    <tr style=\"text-align: right;\">\n",
              "      <th></th>\n",
              "      <th>ensembleDescription</th>\n",
              "      <th>k</th>\n",
              "      <th>dataset</th>\n",
              "      <th>errorRate</th>\n",
              "    </tr>\n",
              "  </thead>\n",
              "  <tbody>\n",
              "    <tr>\n",
              "      <th>0</th>\n",
              "      <td>Linear SVC</td>\n",
              "      <td>1</td>\n",
              "      <td>Breast Cancer</td>\n",
              "      <td>0.226551</td>\n",
              "    </tr>\n",
              "    <tr>\n",
              "      <th>1</th>\n",
              "      <td>Decission Tree</td>\n",
              "      <td>1</td>\n",
              "      <td>Breast Cancer</td>\n",
              "      <td>0.240103</td>\n",
              "    </tr>\n",
              "    <tr>\n",
              "      <th>2</th>\n",
              "      <td>Extra Tree</td>\n",
              "      <td>1</td>\n",
              "      <td>Breast Cancer</td>\n",
              "      <td>0.346692</td>\n",
              "    </tr>\n",
              "    <tr>\n",
              "      <th>3</th>\n",
              "      <td>Logistic</td>\n",
              "      <td>1</td>\n",
              "      <td>Breast Cancer</td>\n",
              "      <td>0.129948</td>\n",
              "    </tr>\n",
              "    <tr>\n",
              "      <th>4</th>\n",
              "      <td>Passive Aggressive</td>\n",
              "      <td>1</td>\n",
              "      <td>Breast Cancer</td>\n",
              "      <td>0.174465</td>\n",
              "    </tr>\n",
              "    <tr>\n",
              "      <th>...</th>\n",
              "      <td>...</td>\n",
              "      <td>...</td>\n",
              "      <td>...</td>\n",
              "      <td>...</td>\n",
              "    </tr>\n",
              "    <tr>\n",
              "      <th>37599</th>\n",
              "      <td>BernoulliNB-MultinomialNB-Nearest Neighbors-Ex...</td>\n",
              "      <td>5</td>\n",
              "      <td>Wine</td>\n",
              "      <td>0.089542</td>\n",
              "    </tr>\n",
              "    <tr>\n",
              "      <th>37600</th>\n",
              "      <td>BernoulliNB-MultinomialNB-Nearest Neighbors-Ra...</td>\n",
              "      <td>5</td>\n",
              "      <td>Wine</td>\n",
              "      <td>0.101634</td>\n",
              "    </tr>\n",
              "    <tr>\n",
              "      <th>37601</th>\n",
              "      <td>BernoulliNB-MultinomialNB-Extra Trees-Random F...</td>\n",
              "      <td>5</td>\n",
              "      <td>Wine</td>\n",
              "      <td>0.073529</td>\n",
              "    </tr>\n",
              "    <tr>\n",
              "      <th>37602</th>\n",
              "      <td>BernoulliNB-Nearest Neighbors-Extra Trees-Rand...</td>\n",
              "      <td>5</td>\n",
              "      <td>Wine</td>\n",
              "      <td>0.073529</td>\n",
              "    </tr>\n",
              "    <tr>\n",
              "      <th>37603</th>\n",
              "      <td>MultinomialNB-Nearest Neighbors-Extra Trees-Ra...</td>\n",
              "      <td>5</td>\n",
              "      <td>Wine</td>\n",
              "      <td>0.072876</td>\n",
              "    </tr>\n",
              "  </tbody>\n",
              "</table>\n",
              "<p>37604 rows × 4 columns</p>\n",
              "</div>"
            ],
            "text/plain": [
              "                                     ensembleDescription  ...  errorRate\n",
              "0                                             Linear SVC  ...   0.226551\n",
              "1                                         Decission Tree  ...   0.240103\n",
              "2                                             Extra Tree  ...   0.346692\n",
              "3                                               Logistic  ...   0.129948\n",
              "4                                     Passive Aggressive  ...   0.174465\n",
              "...                                                  ...  ...        ...\n",
              "37599  BernoulliNB-MultinomialNB-Nearest Neighbors-Ex...  ...   0.089542\n",
              "37600  BernoulliNB-MultinomialNB-Nearest Neighbors-Ra...  ...   0.101634\n",
              "37601  BernoulliNB-MultinomialNB-Extra Trees-Random F...  ...   0.073529\n",
              "37602  BernoulliNB-Nearest Neighbors-Extra Trees-Rand...  ...   0.073529\n",
              "37603  MultinomialNB-Nearest Neighbors-Extra Trees-Ra...  ...   0.072876\n",
              "\n",
              "[37604 rows x 4 columns]"
            ]
          },
          "metadata": {
            "tags": []
          },
          "execution_count": 19
        }
      ]
    },
    {
      "cell_type": "code",
      "metadata": {
        "id": "7UcOMzxp3ApQ",
        "outputId": "eadce721-e374-4a88-e18b-969b43cffc11",
        "colab": {
          "base_uri": "https://localhost:8080/",
          "height": 1000
        }
      },
      "source": [
        "for dataset, dfDataset in df.groupby(['dataset']): \r\n",
        "  boxplots = []\r\n",
        "  for k, dfK in dfDataset.groupby(['k']):\r\n",
        "    boxplots.append(dfK['errorRate'].values)\r\n",
        "  fig, ax = plt.subplots()\r\n",
        "  ax.boxplot(boxplots)\r\n",
        "  ax.set_title(dataset)\r\n",
        "  plt.show()  "
      ],
      "execution_count": 26,
      "outputs": [
        {
          "output_type": "stream",
          "text": [
            "/usr/local/lib/python3.6/dist-packages/numpy/core/_asarray.py:83: VisibleDeprecationWarning: Creating an ndarray from ragged nested sequences (which is a list-or-tuple of lists-or-tuples-or ndarrays with different lengths or shapes) is deprecated. If you meant to do this, you must specify 'dtype=object' when creating the ndarray\n",
            "  return array(a, dtype, copy=False, order=order)\n"
          ],
          "name": "stderr"
        },
        {
          "output_type": "display_data",
          "data": {
            "image/png": "[encoded data removed]",
            "text/plain": [
              "<Figure size 432x288 with 1 Axes>"
            ]
          },
          "metadata": {
            "tags": [],
            "needs_background": "light"
          }
        },
        {
          "output_type": "stream",
          "text": [
            "/usr/local/lib/python3.6/dist-packages/numpy/core/_asarray.py:83: VisibleDeprecationWarning: Creating an ndarray from ragged nested sequences (which is a list-or-tuple of lists-or-tuples-or ndarrays with different lengths or shapes) is deprecated. If you meant to do this, you must specify 'dtype=object' when creating the ndarray\n",
            "  return array(a, dtype, copy=False, order=order)\n"
          ],
          "name": "stderr"
        },
        {
          "output_type": "display_data",
          "data": {
            "image/png": "[encoded data removed]",
            "text/plain": [
              "<Figure size 432x288 with 1 Axes>"
            ]
          },
          "metadata": {
            "tags": [],
            "needs_background": "light"
          }
        },
        {
          "output_type": "stream",
          "text": [
            "/usr/local/lib/python3.6/dist-packages/numpy/core/_asarray.py:83: VisibleDeprecationWarning: Creating an ndarray from ragged nested sequences (which is a list-or-tuple of lists-or-tuples-or ndarrays with different lengths or shapes) is deprecated. If you meant to do this, you must specify 'dtype=object' when creating the ndarray\n",
            "  return array(a, dtype, copy=False, order=order)\n"
          ],
          "name": "stderr"
        },
        {
          "output_type": "display_data",
          "data": {
            "image/png": "[encoded data removed]",
            "text/plain": [
              "<Figure size 432x288 with 1 Axes>"
            ]
          },
          "metadata": {
            "tags": [],
            "needs_background": "light"
          }
        },
        {
          "output_type": "stream",
          "text": [
            "/usr/local/lib/python3.6/dist-packages/numpy/core/_asarray.py:83: VisibleDeprecationWarning: Creating an ndarray from ragged nested sequences (which is a list-or-tuple of lists-or-tuples-or ndarrays with different lengths or shapes) is deprecated. If you meant to do this, you must specify 'dtype=object' when creating the ndarray\n",
            "  return array(a, dtype, copy=False, order=order)\n"
          ],
          "name": "stderr"
        },
        {
          "output_type": "display_data",
          "data": {
            "image/png": "[encoded data removed]",
            "text/plain": [
              "<Figure size 432x288 with 1 Axes>"
            ]
          },
          "metadata": {
            "tags": [],
            "needs_background": "light"
          }
        }
      ]
    },
    {
      "cell_type": "markdown",
      "metadata": {
        "id": "6nL_M4UJqSog"
      },
      "source": [
        "### Metrics"
      ]
    },
    {
      "cell_type": "markdown",
      "metadata": {
        "id": "17hLSwlgqcQw"
      },
      "source": [
        "#### Mean error rate for ensembles of size <k>"
      ]
    },
    {
      "cell_type": "code",
      "metadata": {
        "id": "67NTipV-fuBE"
      },
      "source": [
        "meanErrorRateSizeK = {}\r\n",
        "\r\n",
        "for dsName in ds_names:\r\n",
        "  print()\r\n",
        "  for k in range(1,6):\r\n",
        "    sum = 0\r\n",
        "    ensembles_k = list(filter(lambda res: int(res[1]) == k, filterResultsByDataset(dsName, finalResults)))\r\n",
        "    for res in ensembles_k:\r\n",
        "      sum += float(res[3])\r\n",
        "    errorRate = sum/len(ensembles_k)\r\n",
        "    print(f\"Mean error rate in ensembles of size {k} in dataset {dsName}: {errorRate}\")\r\n",
        "    meanErrorRateSizeK[k] = errorRate\r\n",
        "\r\n",
        "print()\r\n",
        "for k in range(1,6):\r\n",
        "    sum = 0\r\n",
        "    ensembles_k = list(filter(lambda res: int(res[1]) == k, finalResults))\r\n",
        "    for res in ensembles_k:\r\n",
        "      sum += float(res[3])\r\n",
        "    errorRate = sum/len(ensembles_k)\r\n",
        "    print(f\"Mean error rate in ensembles of size {k} in all datasets: {errorRate}\")\r\n",
        "    meanErrorRateSizeK[k] = errorRate\r\n",
        "  "
      ],
      "execution_count": null,
      "outputs": []
    },
    {
      "cell_type": "markdown",
      "metadata": {
        "id": "--KHaeYhq5lm"
      },
      "source": [
        "#### For every classifier, the errorRates of ensembles of different size k that contained it"
      ]
    },
    {
      "cell_type": "code",
      "metadata": {
        "id": "rsuQjvs9gYOI",
        "outputId": "454ec919-8e42-4fd9-b8f9-dceb6fbd937c",
        "colab": {
          "base_uri": "https://localhost:8080/"
        }
      },
      "source": [
        "for classifier in list(classifiers.keys()):\r\n",
        "  print()\r\n",
        "  for k in range(1,6):\r\n",
        "    sum = 0\r\n",
        "    ensembles_k = list(filter(lambda res: (int(res[1]) == k) and (classifier in str(res[0])), finalResults))\r\n",
        "    for res in ensembles_k:\r\n",
        "      sum += float(res[3])\r\n",
        "    print(f\"Mean error rate in ensembles of size {k} that contained {classifier}: {sum/len(ensembles_k)}\")\r\n"
      ],
      "execution_count": 30,
      "outputs": [
        {
          "output_type": "stream",
          "text": [
            "\n",
            "Mean error rate in ensembles of size 1 that contained Linear SVC: 0.1857488050350984\n",
            "Mean error rate in ensembles of size 2 that contained Linear SVC: 0.23616357632162685\n",
            "Mean error rate in ensembles of size 3 that contained Linear SVC: 0.15174489598144134\n",
            "Mean error rate in ensembles of size 4 that contained Linear SVC: 0.1415756124242305\n",
            "Mean error rate in ensembles of size 5 that contained Linear SVC: 0.1183510801729263\n",
            "\n",
            "Mean error rate in ensembles of size 1 that contained Decission Tree: 0.194562557601694\n",
            "Mean error rate in ensembles of size 2 that contained Decission Tree: 0.23575750159112457\n",
            "Mean error rate in ensembles of size 3 that contained Decission Tree: 0.14393838386656566\n",
            "Mean error rate in ensembles of size 4 that contained Decission Tree: 0.13230575478684556\n",
            "Mean error rate in ensembles of size 5 that contained Decission Tree: 0.11227882737706295\n",
            "\n",
            "Mean error rate in ensembles of size 1 that contained Extra Tree: 0.1553183805375527\n",
            "Mean error rate in ensembles of size 2 that contained Extra Tree: 0.20998034649041553\n",
            "Mean error rate in ensembles of size 3 that contained Extra Tree: 0.12869992468482716\n",
            "Mean error rate in ensembles of size 4 that contained Extra Tree: 0.12399084001027884\n",
            "Mean error rate in ensembles of size 5 that contained Extra Tree: 0.10553252027935114\n",
            "\n",
            "Mean error rate in ensembles of size 1 that contained Logistic: 0.09627436258243373\n",
            "Mean error rate in ensembles of size 2 that contained Logistic: 0.18719673061998987\n",
            "Mean error rate in ensembles of size 3 that contained Logistic: 0.12327373346223397\n",
            "Mean error rate in ensembles of size 4 that contained Logistic: 0.12312940462130183\n",
            "Mean error rate in ensembles of size 5 that contained Logistic: 0.10480012667061088\n",
            "\n",
            "Mean error rate in ensembles of size 1 that contained Passive Aggressive: 0.38309176106000575\n",
            "Mean error rate in ensembles of size 2 that contained Passive Aggressive: 0.32096013081032415\n",
            "Mean error rate in ensembles of size 3 that contained Passive Aggressive: 0.2081008388805065\n",
            "Mean error rate in ensembles of size 4 that contained Passive Aggressive: 0.18308940300490492\n",
            "Mean error rate in ensembles of size 5 that contained Passive Aggressive: 0.14221780048588994\n",
            "\n",
            "Mean error rate in ensembles of size 1 that contained Perceptron: 0.42314505566756744\n",
            "Mean error rate in ensembles of size 2 that contained Perceptron: 0.3245916139912856\n",
            "Mean error rate in ensembles of size 3 that contained Perceptron: 0.21513272533794933\n",
            "Mean error rate in ensembles of size 4 that contained Perceptron: 0.17322574227621415\n",
            "Mean error rate in ensembles of size 5 that contained Perceptron: 0.13753702304165838\n",
            "\n",
            "Mean error rate in ensembles of size 1 that contained Ridge: 0.1353312488623794\n",
            "Mean error rate in ensembles of size 2 that contained Ridge: 0.1953459854566276\n",
            "Mean error rate in ensembles of size 3 that contained Ridge: 0.1341199137406768\n",
            "Mean error rate in ensembles of size 4 that contained Ridge: 0.12438863258904968\n",
            "Mean error rate in ensembles of size 5 that contained Ridge: 0.10581118024934051\n",
            "\n",
            "Mean error rate in ensembles of size 1 that contained SGD: 0.35408270546285747\n",
            "Mean error rate in ensembles of size 2 that contained SGD: 0.2891923926028682\n",
            "Mean error rate in ensembles of size 3 that contained SGD: 0.2105490498957759\n",
            "Mean error rate in ensembles of size 4 that contained SGD: 0.17024391807651726\n",
            "Mean error rate in ensembles of size 5 that contained SGD: 0.1404679062041099\n",
            "\n",
            "Mean error rate in ensembles of size 1 that contained Multi-layer Perceptron: 0.3262344787714164\n",
            "Mean error rate in ensembles of size 2 that contained Multi-layer Perceptron: 0.29504028038032076\n",
            "Mean error rate in ensembles of size 3 that contained Multi-layer Perceptron: 0.18865283190769855\n",
            "Mean error rate in ensembles of size 4 that contained Multi-layer Perceptron: 0.15511495225050215\n",
            "Mean error rate in ensembles of size 5 that contained Multi-layer Perceptron: 0.12978629518241333\n",
            "\n",
            "Mean error rate in ensembles of size 1 that contained Linear Discriminant: 0.08018725526572484\n",
            "Mean error rate in ensembles of size 2 that contained Linear Discriminant: 0.17204779293155317\n",
            "Mean error rate in ensembles of size 3 that contained Linear Discriminant: 0.11586439521126837\n",
            "Mean error rate in ensembles of size 4 that contained Linear Discriminant: 0.11472517948177023\n",
            "Mean error rate in ensembles of size 5 that contained Linear Discriminant: 0.09885376403565846\n",
            "\n",
            "Mean error rate in ensembles of size 1 that contained Quadratic Discriminant: 0.119839000434046\n",
            "Mean error rate in ensembles of size 2 that contained Quadratic Discriminant: 0.1828080943047488\n",
            "Mean error rate in ensembles of size 3 that contained Quadratic Discriminant: 0.1134136864153026\n",
            "Mean error rate in ensembles of size 4 that contained Quadratic Discriminant: 0.11180782374206176\n",
            "Mean error rate in ensembles of size 5 that contained Quadratic Discriminant: 0.09573625386163119\n",
            "\n",
            "Mean error rate in ensembles of size 1 that contained BernoulliNB: 0.8804430565473272\n",
            "Mean error rate in ensembles of size 2 that contained BernoulliNB: 0.5478158470474953\n",
            "Mean error rate in ensembles of size 3 that contained BernoulliNB: 0.280537383036131\n",
            "Mean error rate in ensembles of size 4 that contained BernoulliNB: 0.20610552936319648\n",
            "Mean error rate in ensembles of size 5 that contained BernoulliNB: 0.1582631877007806\n",
            "\n",
            "Mean error rate in ensembles of size 1 that contained MultinomialNB: 0.323163076487088\n",
            "Mean error rate in ensembles of size 2 that contained MultinomialNB: 0.27392812280411777\n",
            "Mean error rate in ensembles of size 3 that contained MultinomialNB: 0.19140090370943696\n",
            "Mean error rate in ensembles of size 4 that contained MultinomialNB: 0.15654356241908704\n",
            "Mean error rate in ensembles of size 5 that contained MultinomialNB: 0.130444290152354\n",
            "\n",
            "Mean error rate in ensembles of size 1 that contained Nearest Neighbors: 0.2326562370022987\n",
            "Mean error rate in ensembles of size 2 that contained Nearest Neighbors: 0.25099777319349287\n",
            "Mean error rate in ensembles of size 3 that contained Nearest Neighbors: 0.17294883368666505\n",
            "Mean error rate in ensembles of size 4 that contained Nearest Neighbors: 0.15847052988781044\n",
            "Mean error rate in ensembles of size 5 that contained Nearest Neighbors: 0.1282717903856672\n",
            "\n",
            "Mean error rate in ensembles of size 1 that contained Extra Trees: 0.05588870045224793\n",
            "Mean error rate in ensembles of size 2 that contained Extra Trees: 0.16234664968849444\n",
            "Mean error rate in ensembles of size 3 that contained Extra Trees: 0.10781788466309475\n",
            "Mean error rate in ensembles of size 4 that contained Extra Trees: 0.10974922133228963\n",
            "Mean error rate in ensembles of size 5 that contained Extra Trees: 0.09573633481893001\n",
            "\n",
            "Mean error rate in ensembles of size 1 that contained Random Forest (10 estimators): 0.1078492718267352\n",
            "Mean error rate in ensembles of size 2 that contained Random Forest (10 estimators): 0.19356170740618114\n",
            "Mean error rate in ensembles of size 3 that contained Random Forest (10 estimators): 0.12519889908697965\n",
            "Mean error rate in ensembles of size 4 that contained Random Forest (10 estimators): 0.12139925899179604\n",
            "Mean error rate in ensembles of size 5 that contained Random Forest (10 estimators): 0.10324204703867873\n",
            "\n",
            "Mean error rate in ensembles of size 1 that contained Gradient Boosting: 0.09664585387227517\n",
            "Mean error rate in ensembles of size 2 that contained Gradient Boosting: 0.1869470173994694\n",
            "Mean error rate in ensembles of size 3 that contained Gradient Boosting: 0.12230059467185879\n",
            "Mean error rate in ensembles of size 4 that contained Gradient Boosting: 0.12066513876022363\n",
            "Mean error rate in ensembles of size 5 that contained Gradient Boosting: 0.10384160685729062\n"
          ],
          "name": "stdout"
        }
      ]
    }
  ]
}