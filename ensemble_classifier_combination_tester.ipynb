{
  "nbformat": 4,
  "nbformat_minor": 0,
  "metadata": {
    "colab": {
      "name": "ensemble-classifier-combination-tester.ipynb",
      "provenance": [],
      "authorship_tag": "ABX9TyPXOzRuVLYalyxIljTKKKL0",
      "include_colab_link": true
    },
    "kernelspec": {
      "name": "python3",
      "display_name": "Python 3"
    }
  },
  "cells": [
    {
      "cell_type": "markdown",
      "metadata": {
        "id": "view-in-github",
        "colab_type": "text"
      },
      "source": [
        "<a href=\"https://colab.research.google.com/github/acevedosharp/ensemble-testing-chamber/blob/master/ensemble_classifier_combination_tester.ipynb\" target=\"_parent\"><img src=\"https://colab.research.google.com/assets/colab-badge.svg\" alt=\"Open In Colab\"/></a>"
      ]
    },
    {
      "cell_type": "markdown",
      "metadata": {
        "id": "3VVkWfGqHHs6"
      },
      "source": [
        "- assemble all possible combination of ensembles $k \\in \\{1,2,3,4,5\\}$\r\n",
        "- 10-fold cross validation\r\n"
      ]
    },
    {
      "cell_type": "code",
      "metadata": {
        "id": "eOTCnQy8CnV0"
      },
      "source": [
        "import itertools\r\n",
        "import numpy as np\r\n",
        "import sklearn\r\n",
        "from sklearn.model_selection import KFold\r\n",
        "from sklearn.model_selection import train_test_split\r\n",
        "from sklearn.preprocessing import StandardScaler\r\n",
        "\r\n",
        "# classifiers\r\n",
        "from sklearn.svm import LinearSVC\r\n",
        "from sklearn.tree import DecisionTreeClassifier\r\n",
        "from sklearn.tree import ExtraTreeClassifier\r\n",
        "from sklearn.linear_model import LogisticRegression\r\n",
        "from sklearn.linear_model import PassiveAggressiveClassifier\r\n",
        "from sklearn.linear_model import Perceptron\r\n",
        "from sklearn.linear_model import RidgeClassifier\r\n",
        "from sklearn.linear_model import SGDClassifier\r\n",
        "from sklearn.neural_network import MLPClassifier\r\n",
        "from sklearn.discriminant_analysis import LinearDiscriminantAnalysis\r\n",
        "from sklearn.discriminant_analysis import QuadraticDiscriminantAnalysis\r\n",
        "from sklearn.naive_bayes import BernoulliNB\r\n",
        "from sklearn.naive_bayes import MultinomialNB\r\n",
        "from sklearn.neighbors import KNeighborsClassifier\r\n",
        "from sklearn.ensemble import ExtraTreesClassifier\r\n",
        "from sklearn.ensemble import RandomForestClassifier\r\n",
        "from sklearn.ensemble import GradientBoostingClassifier\r\n",
        "\r\n",
        "# datasets\r\n",
        "from sklearn.datasets import *\r\n",
        "\r\n",
        "from datetime import datetime"
      ],
      "execution_count": 13,
      "outputs": []
    },
    {
      "cell_type": "code",
      "metadata": {
        "id": "I4ORrJknmQBF"
      },
      "source": [
        "classifiers = {\r\n",
        "    \"Linear SVC\": LinearSVC(),\r\n",
        "    \"Decission Tree\": DecisionTreeClassifier(),\r\n",
        "    \"Extra Tree\": ExtraTreeClassifier(),\r\n",
        "    \"Logistic\": LogisticRegression(),\r\n",
        "    \"Passive Aggressive\": PassiveAggressiveClassifier(),\r\n",
        "    \"Perceptron\": Perceptron(),\r\n",
        "    \"Ridge\": RidgeClassifier(),\r\n",
        "    \"SGD\": SGDClassifier(),\r\n",
        "    \"Multi-layer Perceptron\": MLPClassifier(),\r\n",
        "    \"Linear Discriminant\": LinearDiscriminantAnalysis(),\r\n",
        "    \"Quadratic Discriminant\": QuadraticDiscriminantAnalysis(),\r\n",
        "    \"BernoulliNB\": BernoulliNB(),\r\n",
        "    \"MultinomialNB\": MultinomialNB(),\r\n",
        "    \"Nearest Neighbors\": KNeighborsClassifier(),\r\n",
        "    \"Extra Trees\": ExtraTreesClassifier(),\r\n",
        "    \"Random Forest (10 estimators)\": RandomForestClassifier(n_estimators=10),\r\n",
        "    \"Gradient Boosting\": GradientBoostingClassifier()\r\n",
        "}\r\n",
        "\r\n",
        "ds_names = [\r\n",
        "            \"Breast Cancer\",\r\n",
        "            \"Digits\"\r\n",
        "]\r\n",
        "\r\n",
        "datasets = [\r\n",
        "            sklearn.datasets.load_breast_cancer(return_X_y=True),\r\n",
        "            # sklearn.datasets.load_iris(return_X_y=True),\r\n",
        "            # sklearn.datasets.load_wine(return_X_y=True),\r\n",
        "            sklearn.datasets.load_digits(return_X_y=True)\r\n",
        "]\r\n",
        "\r\n",
        "results = []\r\n",
        "\r\n",
        "kf = KFold(n_splits=10)\r\n",
        "for ds_idx, ds in enumerate(datasets):\r\n",
        "  print(\"==================== CHANGING DATASET at \", datetime.now(), \"====================\")\r\n",
        "  X, Y = ds[0], ds[1]\r\n",
        "  #X = StandardScaler().fit_transform(X)\r\n",
        "  fold_index = 0\r\n",
        "  for train_index, test_index in kf.split(X):\r\n",
        "    print(\"==================== CHANGING FOLD at \", datetime.now(), \"====================\")\r\n",
        "    X_train, X_test = X[train_index], X[test_index] # np.take\r\n",
        "    Y_train, Y_test = Y[train_index], Y[test_index] # np.take\r\n",
        "\r\n",
        "    # Train every classifier with the new data\r\n",
        "    print(\"++++++++++ began training classifiers at\", datetime.now(), \"++++++++++\")\r\n",
        "    for classifier_name, classifier in classifiers.items():\r\n",
        "      classifier.fit(X_train, Y_train)\r\n",
        "    print(\"++++++++++ ended training classifiers at\", datetime.now(), \"++++++++++\")\r\n",
        "    # Assemble ensembles of size k in {1,2,3,4,5}\r\n",
        "    for k in range(1,6):\r\n",
        "      print(\"==================== CHANGING to k = \", k, \" at \", datetime.now(), \"====================\")\r\n",
        "      for combination in list(itertools.combinations(classifiers.keys(), k)):\r\n",
        "        ensemble = []\r\n",
        "        ensemble_description = \"\"\r\n",
        "\r\n",
        "        # group classifiers (already exist fitted in dict)\r\n",
        "        for idx in range(k):\r\n",
        "          ensemble.append(classifiers[combination[idx]])\r\n",
        "          ensemble_description += combination[idx]\r\n",
        "          ensemble_description += \",\"\r\n",
        "        ensemble_description = ensemble_description[:-1]\r\n",
        "\r\n",
        "        # save predictions\r\n",
        "        predictions = np.zeros((len(X_test), k)) # (# test instances, ensemble size)\r\n",
        "        for idx, classifier in enumerate(ensemble):\r\n",
        "          predictions[:,idx] = classifier.predict(X_test)\r\n",
        "        \r\n",
        "        # do hard voting\r\n",
        "        hard_voting_predictions = np.zeros((len(X_test), 1)) # (# test instances, 1)\r\n",
        "        for idx in range(predictions.shape[0]):\r\n",
        "          values, counts = np.unique(predictions[idx], return_counts=True)\r\n",
        "          hard_voting_predictions[idx] = values[np.argmax(counts)]\r\n",
        "        \r\n",
        "        # compare voting predictions against Y_test\r\n",
        "        total_instance_number = len(X_test)\r\n",
        "        errors = 0\r\n",
        "        for idx in range(hard_voting_predictions.shape[0]):\r\n",
        "          if (hard_voting_predictions[idx][0] != Y_test[idx]):\r\n",
        "            errors += 1\r\n",
        "        score = errors/total_instance_number\r\n",
        "\r\n",
        "        # save result (ensemble description, ensemble size, fold index, dataset, score)\r\n",
        "        results.append([ensemble_description, k, fold_index, ds_names[ds_idx], score])\r\n",
        "\r\n",
        "    fold_index += 1\r\n",
        "        "
      ],
      "execution_count": null,
      "outputs": []
    },
    {
      "cell_type": "code",
      "metadata": {
        "id": "VBZs0JFQbbft"
      },
      "source": [
        "# aggregate results\r\n",
        "\r\n",
        "unique_ensembles = []\r\n",
        "final_results = []\r\n",
        "\r\n",
        "for ensemble in list(map(lambda res: res[0], results)):\r\n",
        "  if ensemble not in unique_ensembles:\r\n",
        "    unique_ensembles.append(ensemble)\r\n",
        "\r\n",
        "for i, ensemble_description in enumerate(unique_ensembles):\r\n",
        "  filtered = list(filter(lambda res: str(res[0]) == ensemble_description, results))\r\n",
        "  sum = 0\r\n",
        "  for entry in filtered:\r\n",
        "    sum += float(entry[4])\r\n",
        "  mean_error = sum / 10\r\n",
        "  final_results.append([filtered[0][0], filtered[0][1], filtered[0][3], mean_error]) # [ensemble_description, ensemble_size, dataset, mean_error]\r\n"
      ],
      "execution_count": 65,
      "outputs": []
    },
    {
      "cell_type": "code",
      "metadata": {
        "id": "gjPaIST-fcCd"
      },
      "source": [
        "breast_cancer_results = list(filter(lambda res: str(res[2]) == \"Breast Cancer\", final_results))\r\n",
        "digits_results = list(filter(lambda res: str(res[2]) == \"Digits\", final_results))"
      ],
      "execution_count": null,
      "outputs": []
    },
    {
      "cell_type": "code",
      "metadata": {
        "id": "67NTipV-fuBE",
        "outputId": "50468c8d-eed2-4882-953a-b5d1e1ce94cb",
        "colab": {
          "base_uri": "https://localhost:8080/"
        }
      },
      "source": [
        "# Mean error rate for ensembles of size <k>\r\n",
        "for k in range(1,6):\r\n",
        "  sum = 0\r\n",
        "  ensembles_k = list(filter(lambda res: int(res[1]) == k, final_results))\r\n",
        "  for res in ensembles_k:\r\n",
        "    sum += float(res[3])\r\n",
        "  print(f\"Mean error rate in ensembles of size {k}: {sum/len(ensembles_k)}\")"
      ],
      "execution_count": 66,
      "outputs": [
        {
          "output_type": "stream",
          "text": [
            "Mean error rate in ensembles of size 1: 0.19302866446980632\n",
            "Mean error rate in ensembles of size 2: 0.1684978660434084\n",
            "Mean error rate in ensembles of size 3: 0.12203069990124828\n",
            "Mean error rate in ensembles of size 4: 0.10635968225867207\n",
            "Mean error rate in ensembles of size 5: 0.1024103891154994\n"
          ],
          "name": "stdout"
        }
      ]
    },
    {
      "cell_type": "code",
      "metadata": {
        "id": "rsuQjvs9gYOI",
        "outputId": "9b2e994a-6443-4c45-fdb8-e50368e0a100",
        "colab": {
          "base_uri": "https://localhost:8080/",
          "height": 135
        }
      },
      "source": [
        "# Mean error rate of ensembles of size <k> that contained <classifier>\r\n",
        "for ensemble in unique_ensembles:\r\n",
        "  for k in range(1,6):\r\n",
        "    sum = 0\r\n",
        "    ensembles_k_unique = list(filter(lambda res: (int(res[1]) == k) and (str(res[0]) == ensemble, final_results)))\r\n",
        "    for res in ensembles_k:\r\n",
        "      sum += float(res[3])\r\n",
        "    print(f\"Mean error rate in ensembles of size {k} that contained {ensemble}: {sum/len(ensembles_k)}\")\r\n"
      ],
      "execution_count": 67,
      "outputs": [
        {
          "output_type": "error",
          "ename": "SyntaxError",
          "evalue": "ignored",
          "traceback": [
            "\u001b[0;36m  File \u001b[0;32m\"<ipython-input-67-75937833a057>\"\u001b[0;36m, line \u001b[0;32m5\u001b[0m\n\u001b[0;31m    ensembles_k_unique = list(filter(lambda res: int(res[1]) == k && str(res[0]) == ensemble, final_results))\u001b[0m\n\u001b[0m                                                                   ^\u001b[0m\n\u001b[0;31mSyntaxError\u001b[0m\u001b[0;31m:\u001b[0m invalid syntax\n"
          ]
        }
      ]
    },
    {
      "cell_type": "code",
      "metadata": {
        "id": "jw-b3s5GNDfi"
      },
      "source": [
        "# Group by fold & calculate actual error rate DONE\r\n",
        "\r\n",
        "# ===== FOR EVERY DATASET =====\r\n",
        "\r\n",
        "\r\n",
        "# graph performance of <classifier> as a function of ensemble size <k>\r\n",
        "\r\n",
        "\r\n",
        "\r\n",
        "# of ensembles that surpass <error_rate>, what is the mode of k\r\n",
        "\r\n",
        "# of ensembles that surpass <error_rate>, what are the most common <classifiers>\r\n"
      ],
      "execution_count": null,
      "outputs": []
    }
  ]
}