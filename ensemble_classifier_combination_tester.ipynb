{
  "nbformat": 4,
  "nbformat_minor": 0,
  "metadata": {
    "colab": {
      "name": "ensemble-classifier-combination-tester.ipynb",
      "provenance": [],
      "authorship_tag": "ABX9TyOXVXvdvl8KVXeX3qkbBtRm",
      "include_colab_link": true
    },
    "kernelspec": {
      "name": "python3",
      "display_name": "Python 3"
    }
  },
  "cells": [
    {
      "cell_type": "markdown",
      "metadata": {
        "id": "view-in-github",
        "colab_type": "text"
      },
      "source": [
        "<a href=\"https://colab.research.google.com/github/acevedosharp/ensemble-testing-chamber/blob/master/ensemble_classifier_combination_tester.ipynb\" target=\"_parent\"><img src=\"https://colab.research.google.com/assets/colab-badge.svg\" alt=\"Open In Colab\"/></a>"
      ]
    },
    {
      "cell_type": "markdown",
      "metadata": {
        "id": "3VVkWfGqHHs6"
      },
      "source": [
        "- assemble all possible combination of ensembles $k \\in \\{1,2,3,4,5\\}$\r\n",
        "- 10-fold cross validation\r\n"
      ]
    },
    {
      "cell_type": "code",
      "metadata": {
        "id": "eOTCnQy8CnV0"
      },
      "source": [
        "import itertools\r\n",
        "import numpy as np\r\n",
        "import sklearn\r\n",
        "from sklearn.model_selection import KFold\r\n",
        "from sklearn.model_selection import train_test_split\r\n",
        "from sklearn.preprocessing import StandardScaler\r\n",
        "\r\n",
        "# classifiers\r\n",
        "from sklearn.svm import LinearSVC\r\n",
        "from sklearn.tree import DecisionTreeClassifier\r\n",
        "from sklearn.tree import ExtraTreeClassifier\r\n",
        "from sklearn.linear_model import LogisticRegression\r\n",
        "from sklearn.linear_model import PassiveAggressiveClassifier\r\n",
        "from sklearn.linear_model import Perceptron\r\n",
        "from sklearn.linear_model import RidgeClassifier\r\n",
        "from sklearn.linear_model import SGDClassifier\r\n",
        "from sklearn.neural_network import MLPClassifier\r\n",
        "from sklearn.discriminant_analysis import LinearDiscriminantAnalysis\r\n",
        "from sklearn.discriminant_analysis import QuadraticDiscriminantAnalysis\r\n",
        "from sklearn.naive_bayes import BernoulliNB\r\n",
        "from sklearn.naive_bayes import MultinomialNB\r\n",
        "from sklearn.neighbors import KNeighborsClassifier\r\n",
        "from sklearn.ensemble import ExtraTreesClassifier\r\n",
        "from sklearn.ensemble import RandomForestClassifier\r\n",
        "from sklearn.ensemble import GradientBoostingClassifier\r\n",
        "\r\n",
        "# datasets\r\n",
        "from sklearn.datasets import *\r\n",
        "\r\n",
        "from datetime import datetime"
      ],
      "execution_count": 13,
      "outputs": []
    },
    {
      "cell_type": "code",
      "metadata": {
        "id": "I4ORrJknmQBF",
        "colab": {
          "base_uri": "https://localhost:8080/"
        },
        "outputId": "b8eb1015-bd26-49a4-b439-3297bcf379fa"
      },
      "source": [
        "classifiers = {\r\n",
        "    \"Linear SVC\": LinearSVC(),\r\n",
        "    \"Decission Tree\": DecisionTreeClassifier(),\r\n",
        "    \"Extra Tree\": ExtraTreeClassifier(),\r\n",
        "    \"Logistic\": LogisticRegression(),\r\n",
        "    \"Passive Aggressive\": PassiveAggressiveClassifier(),\r\n",
        "    \"Perceptron\": Perceptron(),\r\n",
        "    \"Ridge\": RidgeClassifier(),\r\n",
        "    \"SGD\": SGDClassifier(),\r\n",
        "    \"Multi-layer Perceptron\": MLPClassifier(),\r\n",
        "    \"Linear Discriminant\": LinearDiscriminantAnalysis(),\r\n",
        "    \"Quadratic Discriminant\": QuadraticDiscriminantAnalysis(),\r\n",
        "    \"BernoulliNB\": BernoulliNB(),\r\n",
        "    \"MultinomialNB\": MultinomialNB(),\r\n",
        "    \"Nearest Neighbors\": KNeighborsClassifier(),\r\n",
        "    \"Extra Trees\": ExtraTreesClassifier(),\r\n",
        "    \"Random Forest (10 estimators)\": RandomForestClassifier(n_estimators=10),\r\n",
        "    \"Gradient Boosting\": GradientBoostingClassifier()\r\n",
        "}\r\n",
        "\r\n",
        "ds_names = [\r\n",
        "            \"Digits\",\r\n",
        "            \"Iris\",\r\n",
        "            \"Wine\",\r\n",
        "            \"Breast Cancer\"\r\n",
        "]\r\n",
        "\r\n",
        "datasets = [\r\n",
        "            sklearn.datasets.load_breast_cancer(return_X_y=True),\r\n",
        "            # sklearn.datasets.load_iris(return_X_y=True),\r\n",
        "            # sklearn.datasets.load_wine(return_X_y=True),\r\n",
        "            sklearn.datasets.load_digits(return_X_y=True)\r\n",
        "]\r\n",
        "\r\n",
        "results = []\r\n",
        "\r\n",
        "kf = KFold(n_splits=10)\r\n",
        "for ds_idx, ds in enumerate(datasets):\r\n",
        "  print(\"==================== CHANGING DATASET at \", datetime.now(), \"====================\")\r\n",
        "  X, Y = ds[0], ds[1]\r\n",
        "  #X = StandardScaler().fit_transform(X)\r\n",
        "  fold_index = 0\r\n",
        "  for train_index, test_index in kf.split(X):\r\n",
        "    print(\"==================== CHANGING FOLD at \", datetime.now(), \"====================\")\r\n",
        "    X_train, X_test = X[train_index], X[test_index] # np.take\r\n",
        "    Y_train, Y_test = Y[train_index], Y[test_index] # np.take\r\n",
        "\r\n",
        "    # Train every classifier with the new data\r\n",
        "    print(\"++++++++++ began training classifiers at\", datetime.now(), \"++++++++++\")\r\n",
        "    for classifier_name, classifier in classifiers.items():\r\n",
        "      classifier.fit(X_train, Y_train)\r\n",
        "    print(\"++++++++++ ended training classifiers at\", datetime.now(), \"++++++++++\")\r\n",
        "    # Assemble ensembles of size k in {1,2,3,4,5}\r\n",
        "    for k in range(1,6):\r\n",
        "      print(\"==================== CHANGING to k = \", k, \" at \", datetime.now(), \"====================\")\r\n",
        "      for combination in list(itertools.combinations(classifiers.keys(), k)):\r\n",
        "        ensemble = []\r\n",
        "        ensemble_description = \"\"\r\n",
        "\r\n",
        "        # group classifiers (already exist fitted in dict)\r\n",
        "        for idx in range(k):\r\n",
        "          ensemble.append(classifiers[combination[idx]])\r\n",
        "          ensemble_description += combination[idx]\r\n",
        "          ensemble_description += \",\"\r\n",
        "        ensemble_description = ensemble_description[:-1]\r\n",
        "\r\n",
        "        # save predictions\r\n",
        "        predictions = np.zeros((len(X_test), k)) # (# test instances, ensemble size)\r\n",
        "        for idx, classifier in enumerate(ensemble):\r\n",
        "          predictions[:,idx] = classifier.predict(X_test)\r\n",
        "        \r\n",
        "        # do hard voting\r\n",
        "        hard_voting_predictions = np.zeros((len(X_test), 1)) # (# test instances, 1)\r\n",
        "        for idx in range(predictions.shape[0]):\r\n",
        "          values, counts = np.unique(predictions[idx], return_counts=True)\r\n",
        "          hard_voting_predictions[idx] = values[np.argmax(counts)]\r\n",
        "        \r\n",
        "        # compare voting predictions against Y_test\r\n",
        "        total_instance_number = len(X_test)\r\n",
        "        errors = 0\r\n",
        "        for idx in range(hard_voting_predictions.shape[0]):\r\n",
        "          if (hard_voting_predictions[idx][0] != Y_test[idx]):\r\n",
        "            errors += 1\r\n",
        "        score = errors/total_instance_number\r\n",
        "\r\n",
        "        # save result (ensemble description, ensemble size, fold index, dataset, score)\r\n",
        "        results.append([ensemble_description, k, fold_index, ds_names[ds_idx], score])\r\n",
        "\r\n",
        "    fold_index += 1\r\n",
        "        "
      ],
      "execution_count": null,
      "outputs": [
        {
          "output_type": "stream",
          "text": [
            "==================== CHANGING DATASET at  2021-02-05 11:13:16.191461 ====================\n",
            "==================== CHANGING FOLD at  2021-02-05 11:13:16.192352 ====================\n",
            "++++++++++ began training classifiers at 2021-02-05 11:13:16.192785 ++++++++++\n"
          ],
          "name": "stdout"
        },
        {
          "output_type": "stream",
          "text": [
            "/usr/local/lib/python3.6/dist-packages/sklearn/svm/_base.py:947: ConvergenceWarning: Liblinear failed to converge, increase the number of iterations.\n",
            "  \"the number of iterations.\", ConvergenceWarning)\n",
            "/usr/local/lib/python3.6/dist-packages/sklearn/linear_model/_logistic.py:940: ConvergenceWarning: lbfgs failed to converge (status=1):\n",
            "STOP: TOTAL NO. of ITERATIONS REACHED LIMIT.\n",
            "\n",
            "Increase the number of iterations (max_iter) or scale the data as shown in:\n",
            "    https://scikit-learn.org/stable/modules/preprocessing.html\n",
            "Please also refer to the documentation for alternative solver options:\n",
            "    https://scikit-learn.org/stable/modules/linear_model.html#logistic-regression\n",
            "  extra_warning_msg=_LOGISTIC_SOLVER_CONVERGENCE_MSG)\n"
          ],
          "name": "stderr"
        },
        {
          "output_type": "stream",
          "text": [
            "++++++++++ ended training classifiers at 2021-02-05 11:13:17.573494 ++++++++++\n",
            "==================== CHANGING to k =  1  at  2021-02-05 11:13:17.574008 ====================\n",
            "==================== CHANGING to k =  2  at  2021-02-05 11:13:17.621208 ====================\n",
            "==================== CHANGING to k =  3  at  2021-02-05 11:13:18.129100 ====================\n",
            "==================== CHANGING to k =  4  at  2021-02-05 11:13:21.105273 ====================\n",
            "==================== CHANGING to k =  5  at  2021-02-05 11:13:34.116641 ====================\n",
            "==================== CHANGING FOLD at  2021-02-05 11:14:14.344531 ====================\n",
            "++++++++++ began training classifiers at 2021-02-05 11:14:14.344765 ++++++++++\n"
          ],
          "name": "stdout"
        },
        {
          "output_type": "stream",
          "text": [
            "/usr/local/lib/python3.6/dist-packages/sklearn/svm/_base.py:947: ConvergenceWarning: Liblinear failed to converge, increase the number of iterations.\n",
            "  \"the number of iterations.\", ConvergenceWarning)\n",
            "/usr/local/lib/python3.6/dist-packages/sklearn/linear_model/_logistic.py:940: ConvergenceWarning: lbfgs failed to converge (status=1):\n",
            "STOP: TOTAL NO. of ITERATIONS REACHED LIMIT.\n",
            "\n",
            "Increase the number of iterations (max_iter) or scale the data as shown in:\n",
            "    https://scikit-learn.org/stable/modules/preprocessing.html\n",
            "Please also refer to the documentation for alternative solver options:\n",
            "    https://scikit-learn.org/stable/modules/linear_model.html#logistic-regression\n",
            "  extra_warning_msg=_LOGISTIC_SOLVER_CONVERGENCE_MSG)\n"
          ],
          "name": "stderr"
        },
        {
          "output_type": "stream",
          "text": [
            "++++++++++ ended training classifiers at 2021-02-05 11:14:15.556557 ++++++++++\n",
            "==================== CHANGING to k =  1  at  2021-02-05 11:14:15.556744 ====================\n",
            "==================== CHANGING to k =  2  at  2021-02-05 11:14:15.603991 ====================\n",
            "==================== CHANGING to k =  3  at  2021-02-05 11:14:16.115421 ====================\n",
            "==================== CHANGING to k =  4  at  2021-02-05 11:14:19.264292 ====================\n",
            "==================== CHANGING to k =  5  at  2021-02-05 11:14:32.408528 ====================\n",
            "==================== CHANGING FOLD at  2021-02-05 11:15:12.658178 ====================\n",
            "++++++++++ began training classifiers at 2021-02-05 11:15:12.659088 ++++++++++\n"
          ],
          "name": "stdout"
        },
        {
          "output_type": "stream",
          "text": [
            "/usr/local/lib/python3.6/dist-packages/sklearn/svm/_base.py:947: ConvergenceWarning: Liblinear failed to converge, increase the number of iterations.\n",
            "  \"the number of iterations.\", ConvergenceWarning)\n",
            "/usr/local/lib/python3.6/dist-packages/sklearn/linear_model/_logistic.py:940: ConvergenceWarning: lbfgs failed to converge (status=1):\n",
            "STOP: TOTAL NO. of ITERATIONS REACHED LIMIT.\n",
            "\n",
            "Increase the number of iterations (max_iter) or scale the data as shown in:\n",
            "    https://scikit-learn.org/stable/modules/preprocessing.html\n",
            "Please also refer to the documentation for alternative solver options:\n",
            "    https://scikit-learn.org/stable/modules/linear_model.html#logistic-regression\n",
            "  extra_warning_msg=_LOGISTIC_SOLVER_CONVERGENCE_MSG)\n"
          ],
          "name": "stderr"
        },
        {
          "output_type": "stream",
          "text": [
            "++++++++++ ended training classifiers at 2021-02-05 11:15:13.994519 ++++++++++\n",
            "==================== CHANGING to k =  1  at  2021-02-05 11:15:13.995053 ====================\n",
            "==================== CHANGING to k =  2  at  2021-02-05 11:15:14.046598 ====================\n",
            "==================== CHANGING to k =  3  at  2021-02-05 11:15:14.538722 ====================\n",
            "==================== CHANGING to k =  4  at  2021-02-05 11:15:17.501319 ====================\n",
            "==================== CHANGING to k =  5  at  2021-02-05 11:15:30.456809 ====================\n",
            "==================== CHANGING FOLD at  2021-02-05 11:16:10.500733 ====================\n",
            "++++++++++ began training classifiers at 2021-02-05 11:16:10.501455 ++++++++++\n"
          ],
          "name": "stdout"
        },
        {
          "output_type": "stream",
          "text": [
            "/usr/local/lib/python3.6/dist-packages/sklearn/svm/_base.py:947: ConvergenceWarning: Liblinear failed to converge, increase the number of iterations.\n",
            "  \"the number of iterations.\", ConvergenceWarning)\n",
            "/usr/local/lib/python3.6/dist-packages/sklearn/linear_model/_logistic.py:940: ConvergenceWarning: lbfgs failed to converge (status=1):\n",
            "STOP: TOTAL NO. of ITERATIONS REACHED LIMIT.\n",
            "\n",
            "Increase the number of iterations (max_iter) or scale the data as shown in:\n",
            "    https://scikit-learn.org/stable/modules/preprocessing.html\n",
            "Please also refer to the documentation for alternative solver options:\n",
            "    https://scikit-learn.org/stable/modules/linear_model.html#logistic-regression\n",
            "  extra_warning_msg=_LOGISTIC_SOLVER_CONVERGENCE_MSG)\n",
            "/usr/local/lib/python3.6/dist-packages/sklearn/neural_network/_multilayer_perceptron.py:571: ConvergenceWarning: Stochastic Optimizer: Maximum iterations (200) reached and the optimization hasn't converged yet.\n",
            "  % self.max_iter, ConvergenceWarning)\n"
          ],
          "name": "stderr"
        },
        {
          "output_type": "stream",
          "text": [
            "++++++++++ ended training classifiers at 2021-02-05 11:16:11.843318 ++++++++++\n",
            "==================== CHANGING to k =  1  at  2021-02-05 11:16:11.843507 ====================\n",
            "==================== CHANGING to k =  2  at  2021-02-05 11:16:11.898222 ====================\n",
            "==================== CHANGING to k =  3  at  2021-02-05 11:16:12.413517 ====================\n",
            "==================== CHANGING to k =  4  at  2021-02-05 11:16:15.445952 ====================\n",
            "==================== CHANGING to k =  5  at  2021-02-05 11:16:28.322087 ====================\n",
            "==================== CHANGING FOLD at  2021-02-05 11:17:07.961691 ====================\n",
            "++++++++++ began training classifiers at 2021-02-05 11:17:07.963025 ++++++++++\n"
          ],
          "name": "stdout"
        },
        {
          "output_type": "stream",
          "text": [
            "/usr/local/lib/python3.6/dist-packages/sklearn/svm/_base.py:947: ConvergenceWarning: Liblinear failed to converge, increase the number of iterations.\n",
            "  \"the number of iterations.\", ConvergenceWarning)\n",
            "/usr/local/lib/python3.6/dist-packages/sklearn/linear_model/_logistic.py:940: ConvergenceWarning: lbfgs failed to converge (status=1):\n",
            "STOP: TOTAL NO. of ITERATIONS REACHED LIMIT.\n",
            "\n",
            "Increase the number of iterations (max_iter) or scale the data as shown in:\n",
            "    https://scikit-learn.org/stable/modules/preprocessing.html\n",
            "Please also refer to the documentation for alternative solver options:\n",
            "    https://scikit-learn.org/stable/modules/linear_model.html#logistic-regression\n",
            "  extra_warning_msg=_LOGISTIC_SOLVER_CONVERGENCE_MSG)\n"
          ],
          "name": "stderr"
        },
        {
          "output_type": "stream",
          "text": [
            "++++++++++ ended training classifiers at 2021-02-05 11:17:09.339999 ++++++++++\n",
            "==================== CHANGING to k =  1  at  2021-02-05 11:17:09.340185 ====================\n",
            "==================== CHANGING to k =  2  at  2021-02-05 11:17:09.389155 ====================\n",
            "==================== CHANGING to k =  3  at  2021-02-05 11:17:09.827414 ====================\n",
            "==================== CHANGING to k =  4  at  2021-02-05 11:17:12.979562 ====================\n",
            "==================== CHANGING to k =  5  at  2021-02-05 11:17:25.994005 ====================\n",
            "==================== CHANGING FOLD at  2021-02-05 11:18:05.721788 ====================\n",
            "++++++++++ began training classifiers at 2021-02-05 11:18:05.722505 ++++++++++\n"
          ],
          "name": "stdout"
        },
        {
          "output_type": "stream",
          "text": [
            "/usr/local/lib/python3.6/dist-packages/sklearn/svm/_base.py:947: ConvergenceWarning: Liblinear failed to converge, increase the number of iterations.\n",
            "  \"the number of iterations.\", ConvergenceWarning)\n",
            "/usr/local/lib/python3.6/dist-packages/sklearn/linear_model/_logistic.py:940: ConvergenceWarning: lbfgs failed to converge (status=1):\n",
            "STOP: TOTAL NO. of ITERATIONS REACHED LIMIT.\n",
            "\n",
            "Increase the number of iterations (max_iter) or scale the data as shown in:\n",
            "    https://scikit-learn.org/stable/modules/preprocessing.html\n",
            "Please also refer to the documentation for alternative solver options:\n",
            "    https://scikit-learn.org/stable/modules/linear_model.html#logistic-regression\n",
            "  extra_warning_msg=_LOGISTIC_SOLVER_CONVERGENCE_MSG)\n",
            "/usr/local/lib/python3.6/dist-packages/sklearn/neural_network/_multilayer_perceptron.py:571: ConvergenceWarning: Stochastic Optimizer: Maximum iterations (200) reached and the optimization hasn't converged yet.\n",
            "  % self.max_iter, ConvergenceWarning)\n"
          ],
          "name": "stderr"
        },
        {
          "output_type": "stream",
          "text": [
            "++++++++++ ended training classifiers at 2021-02-05 11:18:07.194549 ++++++++++\n",
            "==================== CHANGING to k =  1  at  2021-02-05 11:18:07.195522 ====================\n",
            "==================== CHANGING to k =  2  at  2021-02-05 11:18:07.240327 ====================\n",
            "==================== CHANGING to k =  3  at  2021-02-05 11:18:07.746378 ====================\n",
            "==================== CHANGING to k =  4  at  2021-02-05 11:18:10.732095 ====================\n",
            "==================== CHANGING to k =  5  at  2021-02-05 11:18:23.829268 ====================\n",
            "==================== CHANGING FOLD at  2021-02-05 11:19:03.500543 ====================\n",
            "++++++++++ began training classifiers at 2021-02-05 11:19:03.501411 ++++++++++\n"
          ],
          "name": "stdout"
        },
        {
          "output_type": "stream",
          "text": [
            "/usr/local/lib/python3.6/dist-packages/sklearn/svm/_base.py:947: ConvergenceWarning: Liblinear failed to converge, increase the number of iterations.\n",
            "  \"the number of iterations.\", ConvergenceWarning)\n",
            "/usr/local/lib/python3.6/dist-packages/sklearn/linear_model/_logistic.py:940: ConvergenceWarning: lbfgs failed to converge (status=1):\n",
            "STOP: TOTAL NO. of ITERATIONS REACHED LIMIT.\n",
            "\n",
            "Increase the number of iterations (max_iter) or scale the data as shown in:\n",
            "    https://scikit-learn.org/stable/modules/preprocessing.html\n",
            "Please also refer to the documentation for alternative solver options:\n",
            "    https://scikit-learn.org/stable/modules/linear_model.html#logistic-regression\n",
            "  extra_warning_msg=_LOGISTIC_SOLVER_CONVERGENCE_MSG)\n",
            "/usr/local/lib/python3.6/dist-packages/sklearn/neural_network/_multilayer_perceptron.py:571: ConvergenceWarning: Stochastic Optimizer: Maximum iterations (200) reached and the optimization hasn't converged yet.\n",
            "  % self.max_iter, ConvergenceWarning)\n"
          ],
          "name": "stderr"
        },
        {
          "output_type": "stream",
          "text": [
            "++++++++++ ended training classifiers at 2021-02-05 11:19:05.072708 ++++++++++\n",
            "==================== CHANGING to k =  1  at  2021-02-05 11:19:05.072961 ====================\n",
            "==================== CHANGING to k =  2  at  2021-02-05 11:19:05.124967 ====================\n",
            "==================== CHANGING to k =  3  at  2021-02-05 11:19:05.618402 ====================\n",
            "==================== CHANGING to k =  4  at  2021-02-05 11:19:08.700730 ====================\n",
            "==================== CHANGING to k =  5  at  2021-02-05 11:19:22.005809 ====================\n",
            "==================== CHANGING FOLD at  2021-02-05 11:20:02.366345 ====================\n",
            "++++++++++ began training classifiers at 2021-02-05 11:20:02.367362 ++++++++++\n"
          ],
          "name": "stdout"
        },
        {
          "output_type": "stream",
          "text": [
            "/usr/local/lib/python3.6/dist-packages/sklearn/svm/_base.py:947: ConvergenceWarning: Liblinear failed to converge, increase the number of iterations.\n",
            "  \"the number of iterations.\", ConvergenceWarning)\n",
            "/usr/local/lib/python3.6/dist-packages/sklearn/linear_model/_logistic.py:940: ConvergenceWarning: lbfgs failed to converge (status=1):\n",
            "STOP: TOTAL NO. of ITERATIONS REACHED LIMIT.\n",
            "\n",
            "Increase the number of iterations (max_iter) or scale the data as shown in:\n",
            "    https://scikit-learn.org/stable/modules/preprocessing.html\n",
            "Please also refer to the documentation for alternative solver options:\n",
            "    https://scikit-learn.org/stable/modules/linear_model.html#logistic-regression\n",
            "  extra_warning_msg=_LOGISTIC_SOLVER_CONVERGENCE_MSG)\n"
          ],
          "name": "stderr"
        },
        {
          "output_type": "stream",
          "text": [
            "++++++++++ ended training classifiers at 2021-02-05 11:20:03.819856 ++++++++++\n",
            "==================== CHANGING to k =  1  at  2021-02-05 11:20:03.820146 ====================\n",
            "==================== CHANGING to k =  2  at  2021-02-05 11:20:03.874782 ====================\n",
            "==================== CHANGING to k =  3  at  2021-02-05 11:20:04.385422 ====================\n",
            "==================== CHANGING to k =  4  at  2021-02-05 11:20:07.551147 ====================\n",
            "==================== CHANGING to k =  5  at  2021-02-05 11:20:20.495357 ====================\n",
            "==================== CHANGING FOLD at  2021-02-05 11:21:00.198901 ====================\n",
            "++++++++++ began training classifiers at 2021-02-05 11:21:00.199559 ++++++++++\n"
          ],
          "name": "stdout"
        },
        {
          "output_type": "stream",
          "text": [
            "/usr/local/lib/python3.6/dist-packages/sklearn/svm/_base.py:947: ConvergenceWarning: Liblinear failed to converge, increase the number of iterations.\n",
            "  \"the number of iterations.\", ConvergenceWarning)\n",
            "/usr/local/lib/python3.6/dist-packages/sklearn/linear_model/_logistic.py:940: ConvergenceWarning: lbfgs failed to converge (status=1):\n",
            "STOP: TOTAL NO. of ITERATIONS REACHED LIMIT.\n",
            "\n",
            "Increase the number of iterations (max_iter) or scale the data as shown in:\n",
            "    https://scikit-learn.org/stable/modules/preprocessing.html\n",
            "Please also refer to the documentation for alternative solver options:\n",
            "    https://scikit-learn.org/stable/modules/linear_model.html#logistic-regression\n",
            "  extra_warning_msg=_LOGISTIC_SOLVER_CONVERGENCE_MSG)\n"
          ],
          "name": "stderr"
        },
        {
          "output_type": "stream",
          "text": [
            "++++++++++ ended training classifiers at 2021-02-05 11:21:01.409499 ++++++++++\n",
            "==================== CHANGING to k =  1  at  2021-02-05 11:21:01.409990 ====================\n",
            "==================== CHANGING to k =  2  at  2021-02-05 11:21:01.461297 ====================\n",
            "==================== CHANGING to k =  3  at  2021-02-05 11:21:01.977797 ====================\n",
            "==================== CHANGING to k =  4  at  2021-02-05 11:21:05.193411 ====================\n",
            "==================== CHANGING to k =  5  at  2021-02-05 11:21:18.076799 ====================\n",
            "==================== CHANGING FOLD at  2021-02-05 11:21:57.998325 ====================\n",
            "++++++++++ began training classifiers at 2021-02-05 11:21:57.999208 ++++++++++\n"
          ],
          "name": "stdout"
        },
        {
          "output_type": "stream",
          "text": [
            "/usr/local/lib/python3.6/dist-packages/sklearn/svm/_base.py:947: ConvergenceWarning: Liblinear failed to converge, increase the number of iterations.\n",
            "  \"the number of iterations.\", ConvergenceWarning)\n",
            "/usr/local/lib/python3.6/dist-packages/sklearn/linear_model/_logistic.py:940: ConvergenceWarning: lbfgs failed to converge (status=1):\n",
            "STOP: TOTAL NO. of ITERATIONS REACHED LIMIT.\n",
            "\n",
            "Increase the number of iterations (max_iter) or scale the data as shown in:\n",
            "    https://scikit-learn.org/stable/modules/preprocessing.html\n",
            "Please also refer to the documentation for alternative solver options:\n",
            "    https://scikit-learn.org/stable/modules/linear_model.html#logistic-regression\n",
            "  extra_warning_msg=_LOGISTIC_SOLVER_CONVERGENCE_MSG)\n"
          ],
          "name": "stderr"
        },
        {
          "output_type": "stream",
          "text": [
            "++++++++++ ended training classifiers at 2021-02-05 11:21:59.148682 ++++++++++\n",
            "==================== CHANGING to k =  1  at  2021-02-05 11:21:59.149379 ====================\n",
            "==================== CHANGING to k =  2  at  2021-02-05 11:21:59.194251 ====================\n",
            "==================== CHANGING to k =  3  at  2021-02-05 11:21:59.698989 ====================\n",
            "==================== CHANGING to k =  4  at  2021-02-05 11:22:02.813375 ====================\n",
            "==================== CHANGING to k =  5  at  2021-02-05 11:22:15.507529 ====================\n",
            "==================== CHANGING DATASET at  2021-02-05 11:22:55.345886 ====================\n",
            "==================== CHANGING FOLD at  2021-02-05 11:22:55.346691 ====================\n",
            "++++++++++ began training classifiers at 2021-02-05 11:22:55.347501 ++++++++++\n"
          ],
          "name": "stdout"
        },
        {
          "output_type": "stream",
          "text": [
            "/usr/local/lib/python3.6/dist-packages/sklearn/svm/_base.py:947: ConvergenceWarning: Liblinear failed to converge, increase the number of iterations.\n",
            "  \"the number of iterations.\", ConvergenceWarning)\n",
            "/usr/local/lib/python3.6/dist-packages/sklearn/linear_model/_logistic.py:940: ConvergenceWarning: lbfgs failed to converge (status=1):\n",
            "STOP: TOTAL NO. of ITERATIONS REACHED LIMIT.\n",
            "\n",
            "Increase the number of iterations (max_iter) or scale the data as shown in:\n",
            "    https://scikit-learn.org/stable/modules/preprocessing.html\n",
            "Please also refer to the documentation for alternative solver options:\n",
            "    https://scikit-learn.org/stable/modules/linear_model.html#logistic-regression\n",
            "  extra_warning_msg=_LOGISTIC_SOLVER_CONVERGENCE_MSG)\n",
            "/usr/local/lib/python3.6/dist-packages/sklearn/discriminant_analysis.py:691: UserWarning: Variables are collinear\n",
            "  warnings.warn(\"Variables are collinear\")\n"
          ],
          "name": "stderr"
        },
        {
          "output_type": "stream",
          "text": [
            "++++++++++ ended training classifiers at 2021-02-05 11:23:08.565320 ++++++++++\n",
            "==================== CHANGING to k =  1  at  2021-02-05 11:23:08.566419 ====================\n",
            "==================== CHANGING to k =  2  at  2021-02-05 11:23:08.752686 ====================\n",
            "==================== CHANGING to k =  3  at  2021-02-05 11:23:10.837076 ====================\n",
            "==================== CHANGING to k =  4  at  2021-02-05 11:23:24.350533 ====================\n",
            "==================== CHANGING to k =  5  at  2021-02-05 11:24:22.307907 ====================\n",
            "==================== CHANGING FOLD at  2021-02-05 11:27:23.903446 ====================\n",
            "++++++++++ began training classifiers at 2021-02-05 11:27:23.904813 ++++++++++\n"
          ],
          "name": "stdout"
        },
        {
          "output_type": "stream",
          "text": [
            "/usr/local/lib/python3.6/dist-packages/sklearn/svm/_base.py:947: ConvergenceWarning: Liblinear failed to converge, increase the number of iterations.\n",
            "  \"the number of iterations.\", ConvergenceWarning)\n",
            "/usr/local/lib/python3.6/dist-packages/sklearn/linear_model/_logistic.py:940: ConvergenceWarning: lbfgs failed to converge (status=1):\n",
            "STOP: TOTAL NO. of ITERATIONS REACHED LIMIT.\n",
            "\n",
            "Increase the number of iterations (max_iter) or scale the data as shown in:\n",
            "    https://scikit-learn.org/stable/modules/preprocessing.html\n",
            "Please also refer to the documentation for alternative solver options:\n",
            "    https://scikit-learn.org/stable/modules/linear_model.html#logistic-regression\n",
            "  extra_warning_msg=_LOGISTIC_SOLVER_CONVERGENCE_MSG)\n",
            "/usr/local/lib/python3.6/dist-packages/sklearn/discriminant_analysis.py:691: UserWarning: Variables are collinear\n",
            "  warnings.warn(\"Variables are collinear\")\n"
          ],
          "name": "stderr"
        },
        {
          "output_type": "stream",
          "text": [
            "++++++++++ ended training classifiers at 2021-02-05 11:27:37.177734 ++++++++++\n",
            "==================== CHANGING to k =  1  at  2021-02-05 11:27:37.177936 ====================\n",
            "==================== CHANGING to k =  2  at  2021-02-05 11:27:37.371801 ====================\n",
            "==================== CHANGING to k =  3  at  2021-02-05 11:27:39.539705 ====================\n",
            "==================== CHANGING to k =  4  at  2021-02-05 11:27:53.351009 ====================\n",
            "==================== CHANGING to k =  5  at  2021-02-05 11:28:51.802026 ====================\n",
            "==================== CHANGING FOLD at  2021-02-05 11:31:53.093803 ====================\n",
            "++++++++++ began training classifiers at 2021-02-05 11:31:53.094901 ++++++++++\n"
          ],
          "name": "stdout"
        },
        {
          "output_type": "stream",
          "text": [
            "/usr/local/lib/python3.6/dist-packages/sklearn/svm/_base.py:947: ConvergenceWarning: Liblinear failed to converge, increase the number of iterations.\n",
            "  \"the number of iterations.\", ConvergenceWarning)\n",
            "/usr/local/lib/python3.6/dist-packages/sklearn/linear_model/_logistic.py:940: ConvergenceWarning: lbfgs failed to converge (status=1):\n",
            "STOP: TOTAL NO. of ITERATIONS REACHED LIMIT.\n",
            "\n",
            "Increase the number of iterations (max_iter) or scale the data as shown in:\n",
            "    https://scikit-learn.org/stable/modules/preprocessing.html\n",
            "Please also refer to the documentation for alternative solver options:\n",
            "    https://scikit-learn.org/stable/modules/linear_model.html#logistic-regression\n",
            "  extra_warning_msg=_LOGISTIC_SOLVER_CONVERGENCE_MSG)\n",
            "/usr/local/lib/python3.6/dist-packages/sklearn/discriminant_analysis.py:691: UserWarning: Variables are collinear\n",
            "  warnings.warn(\"Variables are collinear\")\n"
          ],
          "name": "stderr"
        },
        {
          "output_type": "stream",
          "text": [
            "++++++++++ ended training classifiers at 2021-02-05 11:32:06.357711 ++++++++++\n",
            "==================== CHANGING to k =  1  at  2021-02-05 11:32:06.358912 ====================\n",
            "==================== CHANGING to k =  2  at  2021-02-05 11:32:06.549439 ====================\n",
            "==================== CHANGING to k =  3  at  2021-02-05 11:32:08.734599 ====================\n",
            "==================== CHANGING to k =  4  at  2021-02-05 11:32:22.518220 ====================\n",
            "==================== CHANGING to k =  5  at  2021-02-05 11:33:20.899418 ====================\n"
          ],
          "name": "stdout"
        }
      ]
    },
    {
      "cell_type": "markdown",
      "metadata": {
        "id": "Lcpb2Vro-F1c"
      },
      "source": [
        "### Persist results in bulk to a database"
      ]
    }
  ]
}